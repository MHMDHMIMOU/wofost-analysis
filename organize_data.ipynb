{
 "cells": [
  {
   "cell_type": "markdown",
   "metadata": {},
   "source": [
    "# Mapping real data to Wofost input/output "
   ]
  },
  {
   "cell_type": "code",
   "execution_count": 1,
   "metadata": {},
   "outputs": [
    {
     "name": "stderr",
     "output_type": "stream",
     "text": [
      "Platform not recognized, using system temp directory for PCSE settings.\n",
      "Platform not recognized, using system temp directory for PCSE settings.\n"
     ]
    }
   ],
   "source": [
    "import sys, os.path\n",
    "import yaml\n",
    "import numpy as np\n",
    "import pandas as pd\n",
    "import datetime\n",
    "import matplotlib.pyplot as plt\n",
    "from IPython.display import display\n",
    "pd.set_option(\"display.max_rows\", None)\n",
    "pd.set_option(\"display.max_colwidth\", 250)\n",
    "\n",
    "import pcse\n",
    "from pcse.models import Wofost71_PP\n",
    "from pcse.base import ParameterProvider\n",
    "from pcse.db import NASAPowerWeatherDataProvider\n",
    "from pcse.fileinput import YAMLCropDataProvider\n",
    "# from pcse.util import WOFOST71SiteDataProvider, DummySoilDataProvider\n",
    "from progressbar import printProgressBar\n",
    "from pcse.fileinput import CABOFileReader\n",
    "from pcse.engine import Engine"
   ]
  },
  {
   "cell_type": "markdown",
   "metadata": {},
   "source": [
    "# Get default data"
   ]
  },
  {
   "cell_type": "code",
   "execution_count": 2,
   "metadata": {},
   "outputs": [],
   "source": [
    "## Retrieve data from default param files\n",
    "data_dir = os.path.join(os.getcwd(), 'default_data') # Rogerio's data\n",
    "crop_file_name = \"crop.cab\"\n",
    "soil_file_name = \"soil.cab\" # Must be a CABO file\n",
    "site_file_name = \"site.cab\" # Must be a CABO file\n",
    "agro_file_name = \"agro.yaml\"# Must be a YAML file\n",
    "config_file_name = \"WLP_NPK.conf\" # Water-limited and nutrient-limited production simulation"
   ]
  },
  {
   "cell_type": "code",
   "execution_count": 3,
   "metadata": {},
   "outputs": [],
   "source": [
    "# cropd = YAMLCropDataProvider() # pulls from https://github.com/ajwdewit/WOFOST_crop_parameters\n",
    "# cropd.set_active_crop(crop_name, variety_name)\n",
    "# cropd"
   ]
  },
  {
   "cell_type": "code",
   "execution_count": 4,
   "metadata": {},
   "outputs": [],
   "source": [
    "soild = CABOFileReader(os.path.join(data_dir, soil_file_name))\n",
    "sited = CABOFileReader(os.path.join(data_dir, site_file_name))\n",
    "cropd = CABOFileReader(os.path.join(data_dir, crop_file_name))\n",
    "config = os.path.join(data_dir, config_file_name)\n",
    "# soild"
   ]
  },
  {
   "cell_type": "code",
   "execution_count": 18,
   "metadata": {},
   "outputs": [],
   "source": [
    "## Define location, crop and season\n",
    "crop_name = 'wheat'\n",
    "variety_name = 'Winter_wheat_101'\n",
    "## Override crop data\n",
    "# cropd = YAMLCropDataProvider() # pulls from https://github.com/ajwdewit/WOFOST_crop_parameters\n",
    "# cropd.set_active_crop(crop_name, variety_name)\n",
    "# cropd.keys()"
   ]
  },
  {
   "cell_type": "code",
   "execution_count": 34,
   "metadata": {},
   "outputs": [
    {
     "name": "stdout",
     "output_type": "stream",
     "text": [
      "\n",
      "- 2017-01-01:\n",
      "    CropCalendar:\n",
      "        crop_name: wheat\n",
      "        variety_name: Winter_wheat_101\n",
      "        crop_start_date: 2017-03-31\n",
      "        crop_start_type: emergence\n",
      "        crop_end_date: 2017-08-11\n",
      "        crop_end_type: harvest\n",
      "        max_duration: 200\n",
      "    TimedEvents: null\n",
      "    StateEvents: null\n",
      "\n"
     ]
    }
   ],
   "source": [
    "campaign_start_date = '2017-01-01'\n",
    "emergence_date = \"2017-03-31\"\n",
    "harvest_date = \"2017-08-11\"\n",
    "max_duration = 200\n",
    "\n",
    "agro_variety_name = 'winter-wheat'\n",
    "agro_yaml = \"\"\"\n",
    "- {start}:\n",
    "    CropCalendar:\n",
    "        crop_name: {cname}\n",
    "        variety_name: {vname}\n",
    "        crop_start_date: {startdate}\n",
    "        crop_start_type: emergence\n",
    "        crop_end_date: {enddate}\n",
    "        crop_end_type: harvest\n",
    "        max_duration: {maxdur}\n",
    "    TimedEvents: null\n",
    "    StateEvents: null\n",
    "\"\"\".format(cname=crop_name, vname=variety_name, \n",
    "           start=campaign_start_date, startdate=emergence_date, \n",
    "           enddate=harvest_date, maxdur=max_duration)\n",
    "agromanagement = yaml.safe_load(agro_yaml)\n",
    "print(agro_yaml)"
   ]
  },
  {
   "cell_type": "code",
   "execution_count": 35,
   "metadata": {},
   "outputs": [],
   "source": [
    "# agromanagement = yaml.load(open(os.path.join(data_dir, agro_file_name)), \n",
    "#                            Loader=yaml.SafeLoader)['AgroManagement']\n",
    "# print(agromanagement)\n",
    "# agromanagement[0][datetime.date(2017, 1, 1)]=agromanagement[0].pop(datetime.date(2019, 1, 1))\n",
    "# print(agromanagement)\n",
    "\n",
    "# agromanagement[0][datetime.date(2017, 1, 1)][\"CropCalendar\"][\"crop_start_date\"]=datetime.date(2017, 1, 1)\n",
    "# agromanagement[0][datetime.date(2017, 1, 1)][\"CropCalendar\"][\"crop_end_date\"]=datetime.date(2017, 8, 11)\n",
    "# agromanagement[0][datetime.date(2017, 1, 1)][\"CropCalendar\"][\"max_duration\"]=300\n",
    "# agromanagement[0][datetime.date(2017, 1, 1)][\"TimedEvents\"][\"events_table\"][0]=datetime.date(2017, 8, 11)"
   ]
  },
  {
   "cell_type": "markdown",
   "metadata": {},
   "source": [
    "Real soil data available only for the below variables:\n",
    "\n",
    "- SMW :  soil moisture content at wilting point [cm3/cm3]\n",
    "- SMFCF :  soil moisture content at field capacity [cm3/cm3]\n",
    "- K0 : hydraulic conductivity of saturated soil [cm day-1]\n",
    "- SOPE  : maximum percolation rate root zone[cm day-1]\n",
    "- KSUB : maximum percolation rate subsoil [cm day-1]\n"
   ]
  },
  {
   "cell_type": "code",
   "execution_count": 36,
   "metadata": {},
   "outputs": [],
   "source": [
    "soil_data_path = 'actual_data/soil/soils_locations.csv' #soils_1stDraft.csv'\n",
    "soil_cols = ['SMW', 'SMFCF', 'K0', 'SOPE', 'KSUB', 'center']"
   ]
  },
  {
   "cell_type": "code",
   "execution_count": 37,
   "metadata": {},
   "outputs": [
    {
     "data": {
      "text/html": [
       "<div>\n",
       "<style scoped>\n",
       "    .dataframe tbody tr th:only-of-type {\n",
       "        vertical-align: middle;\n",
       "    }\n",
       "\n",
       "    .dataframe tbody tr th {\n",
       "        vertical-align: top;\n",
       "    }\n",
       "\n",
       "    .dataframe thead th {\n",
       "        text-align: right;\n",
       "    }\n",
       "</style>\n",
       "<table border=\"1\" class=\"dataframe\">\n",
       "  <thead>\n",
       "    <tr style=\"text-align: right;\">\n",
       "      <th></th>\n",
       "      <th>SMW</th>\n",
       "      <th>SMFCF</th>\n",
       "      <th>K0</th>\n",
       "      <th>SOPE</th>\n",
       "      <th>KSUB</th>\n",
       "      <th>center</th>\n",
       "      <th>longitude</th>\n",
       "      <th>latitude</th>\n",
       "    </tr>\n",
       "  </thead>\n",
       "  <tbody>\n",
       "    <tr>\n",
       "      <th>0</th>\n",
       "      <td>0.089795</td>\n",
       "      <td>0.189621</td>\n",
       "      <td>1.357097</td>\n",
       "      <td>148.254720</td>\n",
       "      <td>99.734993</td>\n",
       "      <td>[-94.01250034395, 36.73749962910311]</td>\n",
       "      <td>-94.012500</td>\n",
       "      <td>36.737500</td>\n",
       "    </tr>\n",
       "    <tr>\n",
       "      <th>1</th>\n",
       "      <td>0.156155</td>\n",
       "      <td>0.264972</td>\n",
       "      <td>0.426985</td>\n",
       "      <td>130.503168</td>\n",
       "      <td>87.793040</td>\n",
       "      <td>[-94.01250034395, 36.73749962910311]</td>\n",
       "      <td>-94.012500</td>\n",
       "      <td>36.737500</td>\n",
       "    </tr>\n",
       "    <tr>\n",
       "      <th>2</th>\n",
       "      <td>0.114223</td>\n",
       "      <td>0.219987</td>\n",
       "      <td>0.886029</td>\n",
       "      <td>138.696192</td>\n",
       "      <td>93.304711</td>\n",
       "      <td>[-86.90416703905, 32.829166311403114]</td>\n",
       "      <td>-86.904167</td>\n",
       "      <td>32.829166</td>\n",
       "    </tr>\n",
       "    <tr>\n",
       "      <th>3</th>\n",
       "      <td>0.156155</td>\n",
       "      <td>0.264972</td>\n",
       "      <td>0.426985</td>\n",
       "      <td>130.503168</td>\n",
       "      <td>87.793040</td>\n",
       "      <td>[-86.90416703905, 32.829166311403114]</td>\n",
       "      <td>-86.904167</td>\n",
       "      <td>32.829166</td>\n",
       "    </tr>\n",
       "    <tr>\n",
       "      <th>4</th>\n",
       "      <td>0.267157</td>\n",
       "      <td>0.399190</td>\n",
       "      <td>0.060149</td>\n",
       "      <td>74.432160</td>\n",
       "      <td>50.072544</td>\n",
       "      <td>[-86.90416703905, 32.829166311403114]</td>\n",
       "      <td>-86.904167</td>\n",
       "      <td>32.829166</td>\n",
       "    </tr>\n",
       "  </tbody>\n",
       "</table>\n",
       "</div>"
      ],
      "text/plain": [
       "        SMW     SMFCF        K0        SOPE       KSUB  \\\n",
       "0  0.089795  0.189621  1.357097  148.254720  99.734993   \n",
       "1  0.156155  0.264972  0.426985  130.503168  87.793040   \n",
       "2  0.114223  0.219987  0.886029  138.696192  93.304711   \n",
       "3  0.156155  0.264972  0.426985  130.503168  87.793040   \n",
       "4  0.267157  0.399190  0.060149   74.432160  50.072544   \n",
       "\n",
       "                                  center  longitude   latitude  \n",
       "0   [-94.01250034395, 36.73749962910311] -94.012500  36.737500  \n",
       "1   [-94.01250034395, 36.73749962910311] -94.012500  36.737500  \n",
       "2  [-86.90416703905, 32.829166311403114] -86.904167  32.829166  \n",
       "3  [-86.90416703905, 32.829166311403114] -86.904167  32.829166  \n",
       "4  [-86.90416703905, 32.829166311403114] -86.904167  32.829166  "
      ]
     },
     "execution_count": 37,
     "metadata": {},
     "output_type": "execute_result"
    }
   ],
   "source": [
    "df_soil = pd.read_csv(soil_data_path, usecols=soil_cols)\n",
    "df_soil.head(10)\n",
    "\n",
    "# Set latitude, longitude to the soil row's center\n",
    "from ast import literal_eval\n",
    "df_soil['center'] = df_soil['center'].apply(literal_eval)\n",
    "df_soil['longitude'] = df_soil['center'].apply(lambda x: x[0])\n",
    "df_soil['latitude'] =  df_soil['center'].apply(lambda x: x[1])\n",
    "df_soil.head()"
   ]
  },
  {
   "cell_type": "code",
   "execution_count": 38,
   "metadata": {},
   "outputs": [],
   "source": [
    "# Override soild\n",
    "soil_row = df_soil.loc[0]\n",
    "for col in soil_cols[:-1]:\n",
    "    soild[col] = soil_row[col]"
   ]
  },
  {
   "cell_type": "code",
   "execution_count": 39,
   "metadata": {},
   "outputs": [],
   "source": [
    "# Run Wofost\n",
    "# Retrieve Weather Data from NASA\n",
    "latitude, longitude = soil_row['latitude'], soil_row['longitude']\n",
    "wdp = NASAPowerWeatherDataProvider(latitude=latitude, longitude=longitude)\n",
    "params = ParameterProvider(cropdata=cropd, sitedata=sited, soildata=soild)\n",
    "wofost = Engine(params, wdp, agromanagement, config) #WLP_NPK"
   ]
  },
  {
   "cell_type": "code",
   "execution_count": 40,
   "metadata": {},
   "outputs": [],
   "source": [
    "wofost.run_till_terminate()\n",
    "r = wofost.get_summary_output()"
   ]
  },
  {
   "cell_type": "code",
   "execution_count": 41,
   "metadata": {},
   "outputs": [
    {
     "data": {
      "text/plain": [
       "[{'DVS': 2.0,\n",
       "  'LAIMAX': 0.43441937790317015,\n",
       "  'TAGP': 2059.221540800439,\n",
       "  'TWSO': 472.4450240397172,\n",
       "  'TWLV': 540.1620697272227,\n",
       "  'TWST': 1046.614447033499,\n",
       "  'TWRT': 534.0624012598115,\n",
       "  'CTRAT': 4.128108178866169,\n",
       "  'RD': 97.60000000000014,\n",
       "  'DOS': None,\n",
       "  'DOE': datetime.date(2017, 3, 31),\n",
       "  'DOA': datetime.date(2017, 6, 2),\n",
       "  'DOM': datetime.date(2017, 7, 14),\n",
       "  'DOH': datetime.date(2017, 8, 11),\n",
       "  'DOV': None}]"
      ]
     },
     "execution_count": 41,
     "metadata": {},
     "output_type": "execute_result"
    }
   ],
   "source": [
    "r"
   ]
  },
  {
   "cell_type": "markdown",
   "metadata": {},
   "source": [
    "# Map Wofost output to actual yield_data"
   ]
  },
  {
   "cell_type": "code",
   "execution_count": 42,
   "metadata": {},
   "outputs": [
    {
     "data": {
      "text/html": [
       "<div>\n",
       "<style scoped>\n",
       "    .dataframe tbody tr th:only-of-type {\n",
       "        vertical-align: middle;\n",
       "    }\n",
       "\n",
       "    .dataframe tbody tr th {\n",
       "        vertical-align: top;\n",
       "    }\n",
       "\n",
       "    .dataframe thead th {\n",
       "        text-align: right;\n",
       "    }\n",
       "</style>\n",
       "<table border=\"1\" class=\"dataframe\">\n",
       "  <thead>\n",
       "    <tr style=\"text-align: right;\">\n",
       "      <th></th>\n",
       "      <th>Year</th>\n",
       "      <th>State</th>\n",
       "      <th>County</th>\n",
       "      <th>Value</th>\n",
       "    </tr>\n",
       "  </thead>\n",
       "  <tbody>\n",
       "    <tr>\n",
       "      <th>0</th>\n",
       "      <td>2007</td>\n",
       "      <td>CALIFORNIA</td>\n",
       "      <td>CONTRA COSTA</td>\n",
       "      <td>65.7</td>\n",
       "    </tr>\n",
       "    <tr>\n",
       "      <th>1</th>\n",
       "      <td>2007</td>\n",
       "      <td>CALIFORNIA</td>\n",
       "      <td>MONTEREY</td>\n",
       "      <td>105.0</td>\n",
       "    </tr>\n",
       "    <tr>\n",
       "      <th>2</th>\n",
       "      <td>2007</td>\n",
       "      <td>CALIFORNIA</td>\n",
       "      <td>OTHER (COMBINED) COUNTIES</td>\n",
       "      <td>95.0</td>\n",
       "    </tr>\n",
       "    <tr>\n",
       "      <th>3</th>\n",
       "      <td>2007</td>\n",
       "      <td>CALIFORNIA</td>\n",
       "      <td>SAN LUIS OBISPO</td>\n",
       "      <td>104.0</td>\n",
       "    </tr>\n",
       "    <tr>\n",
       "      <th>4</th>\n",
       "      <td>2007</td>\n",
       "      <td>CALIFORNIA</td>\n",
       "      <td>LASSEN</td>\n",
       "      <td>50.0</td>\n",
       "    </tr>\n",
       "  </tbody>\n",
       "</table>\n",
       "</div>"
      ],
      "text/plain": [
       "   Year       State                     County  Value\n",
       "0  2007  CALIFORNIA               CONTRA COSTA   65.7\n",
       "1  2007  CALIFORNIA                   MONTEREY  105.0\n",
       "2  2007  CALIFORNIA  OTHER (COMBINED) COUNTIES   95.0\n",
       "3  2007  CALIFORNIA            SAN LUIS OBISPO  104.0\n",
       "4  2007  CALIFORNIA                     LASSEN   50.0"
      ]
     },
     "execution_count": 42,
     "metadata": {},
     "output_type": "execute_result"
    }
   ],
   "source": [
    "cols = ['County', 'Value', 'Year', 'State']\n",
    "yield_data = pd.read_csv('actual_data/yield_usda/wheat_irrigated_country_annual.csv', usecols=cols)\n",
    "yield_data.head()"
   ]
  },
  {
   "cell_type": "code",
   "execution_count": 43,
   "metadata": {},
   "outputs": [
    {
     "data": {
      "text/html": [
       "<div>\n",
       "<style scoped>\n",
       "    .dataframe tbody tr th:only-of-type {\n",
       "        vertical-align: middle;\n",
       "    }\n",
       "\n",
       "    .dataframe tbody tr th {\n",
       "        vertical-align: top;\n",
       "    }\n",
       "\n",
       "    .dataframe thead th {\n",
       "        text-align: right;\n",
       "    }\n",
       "</style>\n",
       "<table border=\"1\" class=\"dataframe\">\n",
       "  <thead>\n",
       "    <tr style=\"text-align: right;\">\n",
       "      <th></th>\n",
       "      <th>Value</th>\n",
       "    </tr>\n",
       "  </thead>\n",
       "  <tbody>\n",
       "    <tr>\n",
       "      <th>0</th>\n",
       "      <td>4418.39727</td>\n",
       "    </tr>\n",
       "    <tr>\n",
       "      <th>1</th>\n",
       "      <td>7061.36550</td>\n",
       "    </tr>\n",
       "    <tr>\n",
       "      <th>2</th>\n",
       "      <td>6388.85450</td>\n",
       "    </tr>\n",
       "    <tr>\n",
       "      <th>3</th>\n",
       "      <td>6994.11440</td>\n",
       "    </tr>\n",
       "    <tr>\n",
       "      <th>4</th>\n",
       "      <td>3362.55500</td>\n",
       "    </tr>\n",
       "  </tbody>\n",
       "</table>\n",
       "</div>"
      ],
      "text/plain": [
       "        Value\n",
       "0  4418.39727\n",
       "1  7061.36550\n",
       "2  6388.85450\n",
       "3  6994.11440\n",
       "4  3362.55500"
      ]
     },
     "execution_count": 43,
     "metadata": {},
     "output_type": "execute_result"
    }
   ],
   "source": [
    "# Convert Actual Yield Data in bushels/acre to kg/ha\n",
    "# 1 Bushels Per Acre to Kilograms Per Hectare = 67.2511 ## http://www.kylesconverter.com/area-density/bushels-per-acre-to-kilograms-per-hectare\n",
    "conversion_rate = 67.2511 # for wheat: bu/acre to kg/ha\n",
    "yield_data['Value'] = yield_data['Value'] * conversion_rate\n",
    "yield_data[['Value']].head()"
   ]
  },
  {
   "cell_type": "code",
   "execution_count": 44,
   "metadata": {},
   "outputs": [
    {
     "data": {
      "text/html": [
       "<div>\n",
       "<style scoped>\n",
       "    .dataframe tbody tr th:only-of-type {\n",
       "        vertical-align: middle;\n",
       "    }\n",
       "\n",
       "    .dataframe tbody tr th {\n",
       "        vertical-align: top;\n",
       "    }\n",
       "\n",
       "    .dataframe thead th {\n",
       "        text-align: right;\n",
       "    }\n",
       "</style>\n",
       "<table border=\"1\" class=\"dataframe\">\n",
       "  <thead>\n",
       "    <tr style=\"text-align: right;\">\n",
       "      <th></th>\n",
       "      <th>latitude</th>\n",
       "      <th>longitude</th>\n",
       "      <th>county</th>\n",
       "    </tr>\n",
       "  </thead>\n",
       "  <tbody>\n",
       "    <tr>\n",
       "      <th>0</th>\n",
       "      <td>40.81</td>\n",
       "      <td>-73.04</td>\n",
       "      <td>Suffolk</td>\n",
       "    </tr>\n",
       "    <tr>\n",
       "      <th>2</th>\n",
       "      <td>18.16</td>\n",
       "      <td>-66.72</td>\n",
       "      <td>Adjuntas</td>\n",
       "    </tr>\n",
       "    <tr>\n",
       "      <th>4</th>\n",
       "      <td>18.43</td>\n",
       "      <td>-67.15</td>\n",
       "      <td>Aguadilla</td>\n",
       "    </tr>\n",
       "    <tr>\n",
       "      <th>7</th>\n",
       "      <td>18.18</td>\n",
       "      <td>-66.98</td>\n",
       "      <td>Maricao</td>\n",
       "    </tr>\n",
       "    <tr>\n",
       "      <th>10</th>\n",
       "      <td>18.45</td>\n",
       "      <td>-66.73</td>\n",
       "      <td>Arecibo</td>\n",
       "    </tr>\n",
       "  </tbody>\n",
       "</table>\n",
       "</div>"
      ],
      "text/plain": [
       "    latitude  longitude     county\n",
       "0      40.81     -73.04    Suffolk\n",
       "2      18.16     -66.72   Adjuntas\n",
       "4      18.43     -67.15  Aguadilla\n",
       "7      18.18     -66.98    Maricao\n",
       "10     18.45     -66.73    Arecibo"
      ]
     },
     "execution_count": 44,
     "metadata": {},
     "output_type": "execute_result"
    }
   ],
   "source": [
    "## Get county coordinates\n",
    "cols = ['county', 'latitude', 'longitude']\n",
    "county_coords = pd.read_csv('actual_data/others/Geocodes_USA_with_Counties.csv', usecols=cols)\n",
    "county_coords = county_coords.dropna()\n",
    "county_coords = county_coords.drop_duplicates()\n",
    "county_coords.head()"
   ]
  },
  {
   "cell_type": "code",
   "execution_count": 47,
   "metadata": {},
   "outputs": [
    {
     "data": {
      "text/html": [
       "<div>\n",
       "<style scoped>\n",
       "    .dataframe tbody tr th:only-of-type {\n",
       "        vertical-align: middle;\n",
       "    }\n",
       "\n",
       "    .dataframe tbody tr th {\n",
       "        vertical-align: top;\n",
       "    }\n",
       "\n",
       "    .dataframe thead th {\n",
       "        text-align: right;\n",
       "    }\n",
       "</style>\n",
       "<table border=\"1\" class=\"dataframe\">\n",
       "  <thead>\n",
       "    <tr style=\"text-align: right;\">\n",
       "      <th></th>\n",
       "      <th>Year</th>\n",
       "      <th>State</th>\n",
       "      <th>County</th>\n",
       "      <th>Value</th>\n",
       "      <th>latitude</th>\n",
       "      <th>longitude</th>\n",
       "    </tr>\n",
       "  </thead>\n",
       "  <tbody>\n",
       "    <tr>\n",
       "      <th>0</th>\n",
       "      <td>2007</td>\n",
       "      <td>CALIFORNIA</td>\n",
       "      <td>contra costa</td>\n",
       "      <td>4418.39727</td>\n",
       "      <td>37.86</td>\n",
       "      <td>-121.64</td>\n",
       "    </tr>\n",
       "    <tr>\n",
       "      <th>0</th>\n",
       "      <td>2007</td>\n",
       "      <td>CALIFORNIA</td>\n",
       "      <td>contra costa</td>\n",
       "      <td>4418.39727</td>\n",
       "      <td>37.78</td>\n",
       "      <td>-121.88</td>\n",
       "    </tr>\n",
       "    <tr>\n",
       "      <th>0</th>\n",
       "      <td>2007</td>\n",
       "      <td>CALIFORNIA</td>\n",
       "      <td>contra costa</td>\n",
       "      <td>4418.39727</td>\n",
       "      <td>37.84</td>\n",
       "      <td>-121.97</td>\n",
       "    </tr>\n",
       "    <tr>\n",
       "      <th>0</th>\n",
       "      <td>2007</td>\n",
       "      <td>CALIFORNIA</td>\n",
       "      <td>contra costa</td>\n",
       "      <td>4418.39727</td>\n",
       "      <td>37.99</td>\n",
       "      <td>-121.81</td>\n",
       "    </tr>\n",
       "    <tr>\n",
       "      <th>0</th>\n",
       "      <td>2007</td>\n",
       "      <td>CALIFORNIA</td>\n",
       "      <td>contra costa</td>\n",
       "      <td>4418.39727</td>\n",
       "      <td>38.07</td>\n",
       "      <td>-121.62</td>\n",
       "    </tr>\n",
       "  </tbody>\n",
       "</table>\n",
       "</div>"
      ],
      "text/plain": [
       "   Year       State        County       Value  latitude  longitude\n",
       "0  2007  CALIFORNIA  contra costa  4418.39727     37.86    -121.64\n",
       "0  2007  CALIFORNIA  contra costa  4418.39727     37.78    -121.88\n",
       "0  2007  CALIFORNIA  contra costa  4418.39727     37.84    -121.97\n",
       "0  2007  CALIFORNIA  contra costa  4418.39727     37.99    -121.81\n",
       "0  2007  CALIFORNIA  contra costa  4418.39727     38.07    -121.62"
      ]
     },
     "execution_count": 47,
     "metadata": {},
     "output_type": "execute_result"
    }
   ],
   "source": [
    "yield_data['County'] = yield_data['County'].str.lower()\n",
    "county_coords['county'] = county_coords['county'].str.lower()\n",
    "clean_yield_data = yield_data.join(county_coords.set_index('county'), on='County', how='inner')\n",
    "clean_yield_data = clean_yield_data.drop_duplicates()\n",
    "clean_yield_data.head()"
   ]
  },
  {
   "cell_type": "code",
   "execution_count": 48,
   "metadata": {},
   "outputs": [
    {
     "data": {
      "text/html": [
       "<div>\n",
       "<style scoped>\n",
       "    .dataframe tbody tr th:only-of-type {\n",
       "        vertical-align: middle;\n",
       "    }\n",
       "\n",
       "    .dataframe tbody tr th {\n",
       "        vertical-align: top;\n",
       "    }\n",
       "\n",
       "    .dataframe thead th {\n",
       "        text-align: right;\n",
       "    }\n",
       "</style>\n",
       "<table border=\"1\" class=\"dataframe\">\n",
       "  <thead>\n",
       "    <tr style=\"text-align: right;\">\n",
       "      <th></th>\n",
       "      <th>latitude</th>\n",
       "      <th>longitude</th>\n",
       "    </tr>\n",
       "  </thead>\n",
       "  <tbody>\n",
       "    <tr>\n",
       "      <th>0</th>\n",
       "      <td>37.86</td>\n",
       "      <td>-121.64</td>\n",
       "    </tr>\n",
       "    <tr>\n",
       "      <th>0</th>\n",
       "      <td>37.78</td>\n",
       "      <td>-121.88</td>\n",
       "    </tr>\n",
       "    <tr>\n",
       "      <th>0</th>\n",
       "      <td>37.84</td>\n",
       "      <td>-121.97</td>\n",
       "    </tr>\n",
       "    <tr>\n",
       "      <th>0</th>\n",
       "      <td>37.99</td>\n",
       "      <td>-121.81</td>\n",
       "    </tr>\n",
       "    <tr>\n",
       "      <th>0</th>\n",
       "      <td>38.07</td>\n",
       "      <td>-121.62</td>\n",
       "    </tr>\n",
       "  </tbody>\n",
       "</table>\n",
       "</div>"
      ],
      "text/plain": [
       "   latitude  longitude\n",
       "0     37.86    -121.64\n",
       "0     37.78    -121.88\n",
       "0     37.84    -121.97\n",
       "0     37.99    -121.81\n",
       "0     38.07    -121.62"
      ]
     },
     "execution_count": 48,
     "metadata": {},
     "output_type": "execute_result"
    }
   ],
   "source": [
    "coords = clean_yield_data[['latitude', 'longitude']]\n",
    "coords.head()"
   ]
  },
  {
   "cell_type": "markdown",
   "metadata": {},
   "source": [
    "# WOFOST Input/Output Matrix using real data\n",
    "Input:\n",
    "- coords: latitude, longitude input\n",
    "- weather: default data provider\n",
    "- cropd: constant\n",
    "- sited: constant\n",
    "- agro_yaml: constant --> choose 2017\n",
    "Output:\n",
    "- clean_yield_data: output yield in kg/ha\n"
   ]
  },
  {
   "cell_type": "code",
   "execution_count": null,
   "metadata": {},
   "outputs": [],
   "source": []
  },
  {
   "cell_type": "code",
   "execution_count": null,
   "metadata": {},
   "outputs": [],
   "source": []
  },
  {
   "cell_type": "code",
   "execution_count": null,
   "metadata": {},
   "outputs": [],
   "source": []
  },
  {
   "cell_type": "code",
   "execution_count": null,
   "metadata": {},
   "outputs": [],
   "source": []
  },
  {
   "cell_type": "code",
   "execution_count": null,
   "metadata": {},
   "outputs": [],
   "source": []
  },
  {
   "cell_type": "code",
   "execution_count": null,
   "metadata": {},
   "outputs": [],
   "source": []
  }
 ],
 "metadata": {
  "kernelspec": {
   "display_name": "Python 3",
   "language": "python",
   "name": "python3"
  },
  "language_info": {
   "codemirror_mode": {
    "name": "ipython",
    "version": 3
   },
   "file_extension": ".py",
   "mimetype": "text/x-python",
   "name": "python",
   "nbconvert_exporter": "python",
   "pygments_lexer": "ipython3",
   "version": "3.8.5"
  }
 },
 "nbformat": 4,
 "nbformat_minor": 4
}
