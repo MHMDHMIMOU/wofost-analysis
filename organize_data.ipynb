{
 "cells": [
  {
   "cell_type": "markdown",
   "metadata": {},
   "source": [
    "# Mapping real data to Wofost input/output "
   ]
  },
  {
   "cell_type": "code",
   "execution_count": 156,
   "metadata": {},
   "outputs": [],
   "source": [
    "import sys, os.path\n",
    "import yaml\n",
    "import numpy as np\n",
    "import pandas as pd\n",
    "import datetime\n",
    "import matplotlib.pyplot as plt\n",
    "from IPython.display import display\n",
    "pd.set_option(\"display.max_rows\", None)\n",
    "pd.set_option(\"display.max_colwidth\", 250)\n",
    "\n",
    "import pcse\n",
    "from pcse.models import Wofost71_PP\n",
    "from pcse.base import ParameterProvider\n",
    "from pcse.db import NASAPowerWeatherDataProvider\n",
    "from pcse.fileinput import YAMLCropDataProvider\n",
    "# from pcse.util import WOFOST71SiteDataProvider, DummySoilDataProvider\n",
    "from progressbar import printProgressBar\n",
    "from pcse.fileinput import CABOFileReader\n",
    "from pcse.engine import Engine\n",
    "\n",
    "import utils\n",
    "from ast import literal_eval"
   ]
  },
  {
   "cell_type": "markdown",
   "metadata": {},
   "source": [
    "### Get default data"
   ]
  },
  {
   "cell_type": "code",
   "execution_count": 2,
   "metadata": {},
   "outputs": [],
   "source": [
    "## Retrieve data from default param files\n",
    "data_dir = os.path.join(os.getcwd(), 'default_data') # Rogerio's data\n",
    "crop_file_name = \"crop.cab\"\n",
    "soil_file_name = \"soil.cab\" # Must be a CABO file\n",
    "site_file_name = \"site.cab\" # Must be a CABO file\n",
    "agro_file_name = \"agro.yaml\"# Must be a YAML file\n",
    "config_file_name = \"WLP_NPK.conf\" # Water-limited and nutrient-limited production simulation\n",
    "\n",
    "soild = CABOFileReader(os.path.join(data_dir, soil_file_name))\n",
    "sited = CABOFileReader(os.path.join(data_dir, site_file_name))\n",
    "cropd = CABOFileReader(os.path.join(data_dir, crop_file_name))\n",
    "config = os.path.join(data_dir, config_file_name)"
   ]
  },
  {
   "cell_type": "markdown",
   "metadata": {},
   "source": [
    "### Override some of the default data\n"
   ]
  },
  {
   "cell_type": "code",
   "execution_count": 151,
   "metadata": {},
   "outputs": [],
   "source": [
    "# Define crop and crop variety\n",
    "crop_name = 'wheat'\n",
    "variety_name = 'Winter_wheat_101'\n",
    "## Override crop data\n",
    "## TODO:  get missing 'CO2' variable when using this, created the issue on the below repo.\n",
    "# cropd = YAMLCropDataProvider() # pulls from https://github.com/ajwdewit/WOFOST_crop_parameters\n",
    "# cropd.set_active_crop(crop_name, variety_name)\n",
    "# cropd.keys()"
   ]
  },
  {
   "cell_type": "markdown",
   "metadata": {},
   "source": [
    "**Override agromanagement data**"
   ]
  },
  {
   "cell_type": "code",
   "execution_count": 153,
   "metadata": {},
   "outputs": [
    {
     "name": "stdout",
     "output_type": "stream",
     "text": [
      "\n",
      "- 2017-01-01:\n",
      "    CropCalendar:\n",
      "        crop_name: wheat\n",
      "        variety_name: Winter_wheat_101\n",
      "        crop_start_date: 2017-03-31\n",
      "        crop_start_type: emergence\n",
      "        crop_end_date: 2017-08-11\n",
      "        crop_end_type: harvest\n",
      "        max_duration: 200\n",
      "    TimedEvents: null\n",
      "    StateEvents: null\n",
      "\n"
     ]
    }
   ],
   "source": [
    "# Overriding agromanagement\n",
    "campaign_start_date = '2017-01-01'\n",
    "emergence_date = \"2017-03-31\"\n",
    "harvest_date = \"2017-08-11\"\n",
    "max_duration = 200\n",
    "\n",
    "agro_variety_name = 'winter-wheat'\n",
    "agro_yaml = \"\"\"\n",
    "- {start}:\n",
    "    CropCalendar:\n",
    "        crop_name: {cname}\n",
    "        variety_name: {vname}\n",
    "        crop_start_date: {startdate}\n",
    "        crop_start_type: emergence\n",
    "        crop_end_date: {enddate}\n",
    "        crop_end_type: harvest\n",
    "        max_duration: {maxdur}\n",
    "    TimedEvents: null\n",
    "    StateEvents: null\n",
    "\"\"\".format(cname=crop_name, vname=variety_name, \n",
    "           start=campaign_start_date, startdate=emergence_date, \n",
    "           enddate=harvest_date, maxdur=max_duration)\n",
    "agromanagement = yaml.safe_load(agro_yaml)\n",
    "print(agro_yaml)"
   ]
  },
  {
   "cell_type": "markdown",
   "metadata": {},
   "source": [
    "**Override soil data**\n",
    "\n",
    "Real soil data available only for the below variables, so only override those:\n",
    "\n",
    "- SMW :  soil moisture content at wilting point [cm3/cm3]\n",
    "- SMFCF :  soil moisture content at field capacity [cm3/cm3]\n",
    "- K0 : hydraulic conductivity of saturated soil [cm day-1]\n",
    "- SOPE  : maximum percolation rate root zone[cm day-1]\n",
    "- KSUB : maximum percolation rate subsoil [cm day-1]"
   ]
  },
  {
   "cell_type": "code",
   "execution_count": 157,
   "metadata": {},
   "outputs": [],
   "source": [
    "soil_data_path = 'actual_data/soil/soils_locations.csv' #soils_1stDraft.csv'\n",
    "soil_cols = ['SMW', 'SMFCF', 'K0', 'SOPE', 'KSUB', 'center'] # center: [longitude, latitude]"
   ]
  },
  {
   "cell_type": "code",
   "execution_count": 160,
   "metadata": {},
   "outputs": [],
   "source": [
    "def get_soil_data(soil_data_path, soil_cols):\n",
    "    df_soil = pd.read_csv(soil_data_path, usecols=soil_cols)\n",
    "    df_soil['center'] = df_soil['center'].apply(literal_eval)\n",
    "    df_soil['longitude'] = df_soil['center'].apply(lambda x: x[0])\n",
    "    df_soil['latitude'] =  df_soil['center'].apply(lambda x: x[1])\n",
    "    return df_soil.drop(columns=['center'])"
   ]
  },
  {
   "cell_type": "code",
   "execution_count": 161,
   "metadata": {},
   "outputs": [
    {
     "data": {
      "text/html": [
       "<div>\n",
       "<style scoped>\n",
       "    .dataframe tbody tr th:only-of-type {\n",
       "        vertical-align: middle;\n",
       "    }\n",
       "\n",
       "    .dataframe tbody tr th {\n",
       "        vertical-align: top;\n",
       "    }\n",
       "\n",
       "    .dataframe thead th {\n",
       "        text-align: right;\n",
       "    }\n",
       "</style>\n",
       "<table border=\"1\" class=\"dataframe\">\n",
       "  <thead>\n",
       "    <tr style=\"text-align: right;\">\n",
       "      <th></th>\n",
       "      <th>SMW</th>\n",
       "      <th>SMFCF</th>\n",
       "      <th>K0</th>\n",
       "      <th>SOPE</th>\n",
       "      <th>KSUB</th>\n",
       "      <th>longitude</th>\n",
       "      <th>latitude</th>\n",
       "    </tr>\n",
       "  </thead>\n",
       "  <tbody>\n",
       "    <tr>\n",
       "      <th>0</th>\n",
       "      <td>0.089795</td>\n",
       "      <td>0.189621</td>\n",
       "      <td>1.357097</td>\n",
       "      <td>148.254720</td>\n",
       "      <td>99.734993</td>\n",
       "      <td>-94.012500</td>\n",
       "      <td>36.737500</td>\n",
       "    </tr>\n",
       "    <tr>\n",
       "      <th>1</th>\n",
       "      <td>0.156155</td>\n",
       "      <td>0.264972</td>\n",
       "      <td>0.426985</td>\n",
       "      <td>130.503168</td>\n",
       "      <td>87.793040</td>\n",
       "      <td>-94.012500</td>\n",
       "      <td>36.737500</td>\n",
       "    </tr>\n",
       "    <tr>\n",
       "      <th>2</th>\n",
       "      <td>0.114223</td>\n",
       "      <td>0.219987</td>\n",
       "      <td>0.886029</td>\n",
       "      <td>138.696192</td>\n",
       "      <td>93.304711</td>\n",
       "      <td>-86.904167</td>\n",
       "      <td>32.829166</td>\n",
       "    </tr>\n",
       "    <tr>\n",
       "      <th>3</th>\n",
       "      <td>0.156155</td>\n",
       "      <td>0.264972</td>\n",
       "      <td>0.426985</td>\n",
       "      <td>130.503168</td>\n",
       "      <td>87.793040</td>\n",
       "      <td>-86.904167</td>\n",
       "      <td>32.829166</td>\n",
       "    </tr>\n",
       "    <tr>\n",
       "      <th>4</th>\n",
       "      <td>0.267157</td>\n",
       "      <td>0.399190</td>\n",
       "      <td>0.060149</td>\n",
       "      <td>74.432160</td>\n",
       "      <td>50.072544</td>\n",
       "      <td>-86.904167</td>\n",
       "      <td>32.829166</td>\n",
       "    </tr>\n",
       "  </tbody>\n",
       "</table>\n",
       "</div>"
      ],
      "text/plain": [
       "        SMW     SMFCF        K0        SOPE       KSUB  longitude   latitude\n",
       "0  0.089795  0.189621  1.357097  148.254720  99.734993 -94.012500  36.737500\n",
       "1  0.156155  0.264972  0.426985  130.503168  87.793040 -94.012500  36.737500\n",
       "2  0.114223  0.219987  0.886029  138.696192  93.304711 -86.904167  32.829166\n",
       "3  0.156155  0.264972  0.426985  130.503168  87.793040 -86.904167  32.829166\n",
       "4  0.267157  0.399190  0.060149   74.432160  50.072544 -86.904167  32.829166"
      ]
     },
     "execution_count": 161,
     "metadata": {},
     "output_type": "execute_result"
    }
   ],
   "source": [
    "df_soil = get_soil_data(soil_data_path, soil_cols)\n",
    "df_soil.head()"
   ]
  },
  {
   "cell_type": "markdown",
   "metadata": {},
   "source": [
    "## Test WOFOST on one data point"
   ]
  },
  {
   "cell_type": "code",
   "execution_count": 162,
   "metadata": {},
   "outputs": [],
   "source": [
    "# Override soild\n",
    "soil_row = df_soil.loc[0]\n",
    "for col in soil_cols[:-1]:\n",
    "    soild[col] = soil_row[col]\n",
    "# Run WOFOST\n",
    "latitude, longitude = soil_row['latitude'], soil_row['longitude']\n",
    "wdp = NASAPowerWeatherDataProvider(latitude=latitude, longitude=longitude)\n",
    "params = ParameterProvider(cropdata=cropd, sitedata=sited, soildata=soild)\n",
    "wofost = Engine(params, wdp, agromanagement, config) #WLP_NPK"
   ]
  },
  {
   "cell_type": "code",
   "execution_count": 163,
   "metadata": {},
   "outputs": [
    {
     "data": {
      "text/plain": [
       "[{'DVS': 2.0,\n",
       "  'LAIMAX': 0.43441937790317015,\n",
       "  'TAGP': 2059.221540800439,\n",
       "  'TWSO': 472.4450240397172,\n",
       "  'TWLV': 540.1620697272227,\n",
       "  'TWST': 1046.614447033499,\n",
       "  'TWRT': 534.0624012598115,\n",
       "  'CTRAT': 4.128108178866169,\n",
       "  'RD': 97.60000000000014,\n",
       "  'DOS': None,\n",
       "  'DOE': datetime.date(2017, 3, 31),\n",
       "  'DOA': datetime.date(2017, 6, 2),\n",
       "  'DOM': datetime.date(2017, 7, 14),\n",
       "  'DOH': datetime.date(2017, 8, 11),\n",
       "  'DOV': None}]"
      ]
     },
     "execution_count": 163,
     "metadata": {},
     "output_type": "execute_result"
    }
   ],
   "source": [
    "wofost.run_till_terminate()\n",
    "r = wofost.get_summary_output()\n",
    "r"
   ]
  },
  {
   "cell_type": "code",
   "execution_count": 174,
   "metadata": {},
   "outputs": [
    {
     "data": {
      "text/plain": [
       "{'DVS': 2.0,\n",
       " 'LAIMAX': 0.43441937790317015,\n",
       " 'TAGP': 2059.221540800439,\n",
       " 'TWSO': 472.4450240397172,\n",
       " 'TWLV': 540.1620697272227,\n",
       " 'TWST': 1046.614447033499,\n",
       " 'TWRT': 534.0624012598115,\n",
       " 'CTRAT': 4.128108178866169,\n",
       " 'RD': 97.60000000000014,\n",
       " 'DOS': None,\n",
       " 'DOE': datetime.date(2017, 3, 31),\n",
       " 'DOA': datetime.date(2017, 6, 2),\n",
       " 'DOM': datetime.date(2017, 7, 14),\n",
       " 'DOH': datetime.date(2017, 8, 11),\n",
       " 'DOV': None}"
      ]
     },
     "execution_count": 174,
     "metadata": {},
     "output_type": "execute_result"
    }
   ],
   "source": [
    "r[0]"
   ]
  },
  {
   "cell_type": "markdown",
   "metadata": {},
   "source": [
    "## Map Wofost output to actual yield_data"
   ]
  },
  {
   "cell_type": "code",
   "execution_count": 166,
   "metadata": {},
   "outputs": [],
   "source": [
    "def process_yield_data(yield_data_path):\n",
    "    cols = ['County', 'Value', 'Year', 'State']\n",
    "    yield_data = pd.read_csv(yield_data_path, usecols=cols)\n",
    "    yield_data['State'] = utils.us_state_abbrev(yield_data['State'])\n",
    "    \n",
    "    # Convert Actual Yield Data in bushels/acre to kg/ha\n",
    "    conversion_rate = 67.2511 # 1 bu/acre to kg/ha # http://www.kylesconverter.com/area-density/bushels-per-acre-to-kilograms-per-hectare\n",
    "    yield_data['Value'] = yield_data['Value'] * conversion_rate\n",
    "    return yield_data\n",
    "\n",
    "yield_data_path = 'actual_data/yield_usda/wheat_irrigated_country_annual.csv'\n",
    "yield_data = process_yield_data(yield_data_path)"
   ]
  },
  {
   "cell_type": "code",
   "execution_count": 167,
   "metadata": {},
   "outputs": [
    {
     "data": {
      "text/html": [
       "<div>\n",
       "<style scoped>\n",
       "    .dataframe tbody tr th:only-of-type {\n",
       "        vertical-align: middle;\n",
       "    }\n",
       "\n",
       "    .dataframe tbody tr th {\n",
       "        vertical-align: top;\n",
       "    }\n",
       "\n",
       "    .dataframe thead th {\n",
       "        text-align: right;\n",
       "    }\n",
       "</style>\n",
       "<table border=\"1\" class=\"dataframe\">\n",
       "  <thead>\n",
       "    <tr style=\"text-align: right;\">\n",
       "      <th></th>\n",
       "      <th>state</th>\n",
       "      <th>latitude</th>\n",
       "      <th>longitude</th>\n",
       "      <th>county</th>\n",
       "    </tr>\n",
       "  </thead>\n",
       "  <tbody>\n",
       "    <tr>\n",
       "      <th>0</th>\n",
       "      <td>NY</td>\n",
       "      <td>40.81</td>\n",
       "      <td>-73.04</td>\n",
       "      <td>SUFFOLK</td>\n",
       "    </tr>\n",
       "    <tr>\n",
       "      <th>2</th>\n",
       "      <td>PR</td>\n",
       "      <td>18.16</td>\n",
       "      <td>-66.72</td>\n",
       "      <td>ADJUNTAS</td>\n",
       "    </tr>\n",
       "    <tr>\n",
       "      <th>4</th>\n",
       "      <td>PR</td>\n",
       "      <td>18.43</td>\n",
       "      <td>-67.15</td>\n",
       "      <td>AGUADILLA</td>\n",
       "    </tr>\n",
       "    <tr>\n",
       "      <th>7</th>\n",
       "      <td>PR</td>\n",
       "      <td>18.18</td>\n",
       "      <td>-66.98</td>\n",
       "      <td>MARICAO</td>\n",
       "    </tr>\n",
       "    <tr>\n",
       "      <th>10</th>\n",
       "      <td>PR</td>\n",
       "      <td>18.45</td>\n",
       "      <td>-66.73</td>\n",
       "      <td>ARECIBO</td>\n",
       "    </tr>\n",
       "  </tbody>\n",
       "</table>\n",
       "</div>"
      ],
      "text/plain": [
       "   state  latitude  longitude     county\n",
       "0     NY     40.81     -73.04    SUFFOLK\n",
       "2     PR     18.16     -66.72   ADJUNTAS\n",
       "4     PR     18.43     -67.15  AGUADILLA\n",
       "7     PR     18.18     -66.98    MARICAO\n",
       "10    PR     18.45     -66.73    ARECIBO"
      ]
     },
     "execution_count": 167,
     "metadata": {},
     "output_type": "execute_result"
    }
   ],
   "source": [
    "def process_county_data(county_coords_path):\n",
    "    cols = ['county', 'latitude', 'longitude', 'state']\n",
    "    county_coords = pd.read_csv(county_coords_path, usecols=cols)\n",
    "    county_coords['county'] = county_coords['county'].str.upper()\n",
    "    county_coords = county_coords.dropna()\n",
    "    county_coords = county_coords.drop_duplicates()\n",
    "    return county_coords\n",
    "\n",
    "county_coords_path = 'actual_data/others/Geocodes_USA_with_Counties.csv'\n",
    "county_coords = process_county_data(county_coords_path )\n",
    "county_coords.head()"
   ]
  },
  {
   "cell_type": "code",
   "execution_count": 168,
   "metadata": {},
   "outputs": [
    {
     "data": {
      "text/html": [
       "<div>\n",
       "<style scoped>\n",
       "    .dataframe tbody tr th:only-of-type {\n",
       "        vertical-align: middle;\n",
       "    }\n",
       "\n",
       "    .dataframe tbody tr th {\n",
       "        vertical-align: top;\n",
       "    }\n",
       "\n",
       "    .dataframe thead th {\n",
       "        text-align: right;\n",
       "    }\n",
       "</style>\n",
       "<table border=\"1\" class=\"dataframe\">\n",
       "  <thead>\n",
       "    <tr style=\"text-align: right;\">\n",
       "      <th></th>\n",
       "      <th>Year</th>\n",
       "      <th>Value</th>\n",
       "      <th>latitude</th>\n",
       "      <th>longitude</th>\n",
       "    </tr>\n",
       "  </thead>\n",
       "  <tbody>\n",
       "    <tr>\n",
       "      <th>count</th>\n",
       "      <td>258030.000000</td>\n",
       "      <td>258030.000000</td>\n",
       "      <td>258030.000000</td>\n",
       "      <td>258030.000000</td>\n",
       "    </tr>\n",
       "    <tr>\n",
       "      <th>mean</th>\n",
       "      <td>1980.708708</td>\n",
       "      <td>3643.382307</td>\n",
       "      <td>40.096418</td>\n",
       "      <td>-110.791067</td>\n",
       "    </tr>\n",
       "    <tr>\n",
       "      <th>std</th>\n",
       "      <td>14.962539</td>\n",
       "      <td>1555.262989</td>\n",
       "      <td>4.725380</td>\n",
       "      <td>8.211198</td>\n",
       "    </tr>\n",
       "    <tr>\n",
       "      <th>min</th>\n",
       "      <td>1929.000000</td>\n",
       "      <td>0.000000</td>\n",
       "      <td>25.920000</td>\n",
       "      <td>-124.140000</td>\n",
       "    </tr>\n",
       "    <tr>\n",
       "      <th>25%</th>\n",
       "      <td>1974.000000</td>\n",
       "      <td>2421.039600</td>\n",
       "      <td>36.580000</td>\n",
       "      <td>-118.270000</td>\n",
       "    </tr>\n",
       "    <tr>\n",
       "      <th>50%</th>\n",
       "      <td>1982.000000</td>\n",
       "      <td>3362.555000</td>\n",
       "      <td>40.050000</td>\n",
       "      <td>-111.670000</td>\n",
       "    </tr>\n",
       "    <tr>\n",
       "      <th>75%</th>\n",
       "      <td>1990.000000</td>\n",
       "      <td>4788.278320</td>\n",
       "      <td>43.880000</td>\n",
       "      <td>-103.820000</td>\n",
       "    </tr>\n",
       "    <tr>\n",
       "      <th>max</th>\n",
       "      <td>2007.000000</td>\n",
       "      <td>9146.149600</td>\n",
       "      <td>48.990000</td>\n",
       "      <td>-94.070000</td>\n",
       "    </tr>\n",
       "  </tbody>\n",
       "</table>\n",
       "</div>"
      ],
      "text/plain": [
       "                Year          Value       latitude      longitude\n",
       "count  258030.000000  258030.000000  258030.000000  258030.000000\n",
       "mean     1980.708708    3643.382307      40.096418    -110.791067\n",
       "std        14.962539    1555.262989       4.725380       8.211198\n",
       "min      1929.000000       0.000000      25.920000    -124.140000\n",
       "25%      1974.000000    2421.039600      36.580000    -118.270000\n",
       "50%      1982.000000    3362.555000      40.050000    -111.670000\n",
       "75%      1990.000000    4788.278320      43.880000    -103.820000\n",
       "max      2007.000000    9146.149600      48.990000     -94.070000"
      ]
     },
     "execution_count": 168,
     "metadata": {},
     "output_type": "execute_result"
    }
   ],
   "source": [
    "clean_yield_data = pd.merge(yield_data, county_coords,  how='left', left_on=['County','State'], right_on = ['county','state'])\n",
    "clean_yield_data = clean_yield_data.drop(columns=['county', 'state'])\n",
    "clean_yield_data = clean_yield_data.dropna()\n",
    "clean_yield_data = clean_yield_data.drop_duplicates()\n",
    "clean_yield_data.describe()"
   ]
  },
  {
   "cell_type": "code",
   "execution_count": 169,
   "metadata": {},
   "outputs": [
    {
     "data": {
      "text/plain": [
       "1"
      ]
     },
     "execution_count": 169,
     "metadata": {},
     "output_type": "execute_result"
    }
   ],
   "source": [
    "lon_eps = 1 # 1 degree --> 87.87018 km\n",
    "lat_eps = 0.5 # 1 degree --> 111.045 km\n",
    "lat_data = clean_yield_data[abs(clean_yield_data['latitude']-latitude) <= lat_eps]\n",
    "lat_data.head()\n",
    "lon_data = lat_data[abs(lat_data['longitude']-longitude) <= lon_eps]\n",
    "len(set(lon_data['County']))"
   ]
  },
  {
   "cell_type": "code",
   "execution_count": 170,
   "metadata": {},
   "outputs": [
    {
     "data": {
      "text/html": [
       "<div>\n",
       "<style scoped>\n",
       "    .dataframe tbody tr th:only-of-type {\n",
       "        vertical-align: middle;\n",
       "    }\n",
       "\n",
       "    .dataframe tbody tr th {\n",
       "        vertical-align: top;\n",
       "    }\n",
       "\n",
       "    .dataframe thead th {\n",
       "        text-align: right;\n",
       "    }\n",
       "</style>\n",
       "<table border=\"1\" class=\"dataframe\">\n",
       "  <thead>\n",
       "    <tr style=\"text-align: right;\">\n",
       "      <th></th>\n",
       "      <th>latitude</th>\n",
       "      <th>longitude</th>\n",
       "    </tr>\n",
       "  </thead>\n",
       "  <tbody>\n",
       "    <tr>\n",
       "      <th>0</th>\n",
       "      <td>37.86</td>\n",
       "      <td>-121.64</td>\n",
       "    </tr>\n",
       "    <tr>\n",
       "      <th>1</th>\n",
       "      <td>37.78</td>\n",
       "      <td>-121.88</td>\n",
       "    </tr>\n",
       "    <tr>\n",
       "      <th>2</th>\n",
       "      <td>37.84</td>\n",
       "      <td>-121.97</td>\n",
       "    </tr>\n",
       "    <tr>\n",
       "      <th>3</th>\n",
       "      <td>37.99</td>\n",
       "      <td>-121.81</td>\n",
       "    </tr>\n",
       "    <tr>\n",
       "      <th>4</th>\n",
       "      <td>38.07</td>\n",
       "      <td>-121.62</td>\n",
       "    </tr>\n",
       "  </tbody>\n",
       "</table>\n",
       "</div>"
      ],
      "text/plain": [
       "   latitude  longitude\n",
       "0     37.86    -121.64\n",
       "1     37.78    -121.88\n",
       "2     37.84    -121.97\n",
       "3     37.99    -121.81\n",
       "4     38.07    -121.62"
      ]
     },
     "execution_count": 170,
     "metadata": {},
     "output_type": "execute_result"
    }
   ],
   "source": [
    "coords = clean_yield_data[['latitude', 'longitude']]\n",
    "coords.head()"
   ]
  },
  {
   "cell_type": "code",
   "execution_count": 171,
   "metadata": {},
   "outputs": [
    {
     "data": {
      "text/html": [
       "<div>\n",
       "<style scoped>\n",
       "    .dataframe tbody tr th:only-of-type {\n",
       "        vertical-align: middle;\n",
       "    }\n",
       "\n",
       "    .dataframe tbody tr th {\n",
       "        vertical-align: top;\n",
       "    }\n",
       "\n",
       "    .dataframe thead th {\n",
       "        text-align: right;\n",
       "    }\n",
       "</style>\n",
       "<table border=\"1\" class=\"dataframe\">\n",
       "  <thead>\n",
       "    <tr style=\"text-align: right;\">\n",
       "      <th></th>\n",
       "      <th>SMW</th>\n",
       "      <th>SMFCF</th>\n",
       "      <th>K0</th>\n",
       "      <th>SOPE</th>\n",
       "      <th>KSUB</th>\n",
       "      <th>longitude</th>\n",
       "      <th>latitude</th>\n",
       "    </tr>\n",
       "  </thead>\n",
       "  <tbody>\n",
       "    <tr>\n",
       "      <th>count</th>\n",
       "      <td>683.000000</td>\n",
       "      <td>683.000000</td>\n",
       "      <td>683.000000</td>\n",
       "      <td>683.000000</td>\n",
       "      <td>683.000000</td>\n",
       "      <td>683.000000</td>\n",
       "      <td>683.000000</td>\n",
       "    </tr>\n",
       "    <tr>\n",
       "      <th>mean</th>\n",
       "      <td>0.129397</td>\n",
       "      <td>0.257961</td>\n",
       "      <td>0.887032</td>\n",
       "      <td>110.882420</td>\n",
       "      <td>74.593628</td>\n",
       "      <td>-96.088458</td>\n",
       "      <td>40.289006</td>\n",
       "    </tr>\n",
       "    <tr>\n",
       "      <th>std</th>\n",
       "      <td>0.046879</td>\n",
       "      <td>0.057563</td>\n",
       "      <td>0.745602</td>\n",
       "      <td>26.439519</td>\n",
       "      <td>17.786586</td>\n",
       "      <td>14.970418</td>\n",
       "      <td>5.928688</td>\n",
       "    </tr>\n",
       "    <tr>\n",
       "      <th>min</th>\n",
       "      <td>0.022273</td>\n",
       "      <td>0.095743</td>\n",
       "      <td>0.009053</td>\n",
       "      <td>46.780704</td>\n",
       "      <td>31.470655</td>\n",
       "      <td>-123.787500</td>\n",
       "      <td>24.595833</td>\n",
       "    </tr>\n",
       "    <tr>\n",
       "      <th>25%</th>\n",
       "      <td>0.096445</td>\n",
       "      <td>0.219987</td>\n",
       "      <td>0.410936</td>\n",
       "      <td>91.756992</td>\n",
       "      <td>61.727431</td>\n",
       "      <td>-109.704167</td>\n",
       "      <td>35.820833</td>\n",
       "    </tr>\n",
       "    <tr>\n",
       "      <th>50%</th>\n",
       "      <td>0.127934</td>\n",
       "      <td>0.264972</td>\n",
       "      <td>0.679608</td>\n",
       "      <td>109.081824</td>\n",
       "      <td>73.382318</td>\n",
       "      <td>-94.854167</td>\n",
       "      <td>40.937500</td>\n",
       "    </tr>\n",
       "    <tr>\n",
       "      <th>75%</th>\n",
       "      <td>0.156345</td>\n",
       "      <td>0.298316</td>\n",
       "      <td>1.158441</td>\n",
       "      <td>130.503168</td>\n",
       "      <td>87.793040</td>\n",
       "      <td>-82.820834</td>\n",
       "      <td>44.970833</td>\n",
       "    </tr>\n",
       "    <tr>\n",
       "      <th>max</th>\n",
       "      <td>0.318037</td>\n",
       "      <td>0.445473</td>\n",
       "      <td>4.405855</td>\n",
       "      <td>189.219840</td>\n",
       "      <td>127.293347</td>\n",
       "      <td>-62.062500</td>\n",
       "      <td>49.120833</td>\n",
       "    </tr>\n",
       "  </tbody>\n",
       "</table>\n",
       "</div>"
      ],
      "text/plain": [
       "              SMW       SMFCF          K0        SOPE        KSUB   longitude  \\\n",
       "count  683.000000  683.000000  683.000000  683.000000  683.000000  683.000000   \n",
       "mean     0.129397    0.257961    0.887032  110.882420   74.593628  -96.088458   \n",
       "std      0.046879    0.057563    0.745602   26.439519   17.786586   14.970418   \n",
       "min      0.022273    0.095743    0.009053   46.780704   31.470655 -123.787500   \n",
       "25%      0.096445    0.219987    0.410936   91.756992   61.727431 -109.704167   \n",
       "50%      0.127934    0.264972    0.679608  109.081824   73.382318  -94.854167   \n",
       "75%      0.156345    0.298316    1.158441  130.503168   87.793040  -82.820834   \n",
       "max      0.318037    0.445473    4.405855  189.219840  127.293347  -62.062500   \n",
       "\n",
       "         latitude  \n",
       "count  683.000000  \n",
       "mean    40.289006  \n",
       "std      5.928688  \n",
       "min     24.595833  \n",
       "25%     35.820833  \n",
       "50%     40.937500  \n",
       "75%     44.970833  \n",
       "max     49.120833  "
      ]
     },
     "execution_count": 171,
     "metadata": {},
     "output_type": "execute_result"
    }
   ],
   "source": [
    "soil_subset = pd.merge(df_soil, coords, on=['latitude', 'longitude'], how='left')\n",
    "soil_subset.describe()"
   ]
  },
  {
   "cell_type": "markdown",
   "metadata": {},
   "source": [
    "# WOFOST Input/Output Matrix using real data\n",
    "Input:\n",
    "- soil_subset: soil data that has the same coordinates as the yield_data\n",
    "- weather: default data provider using latitude, longitude from soil_subset\n",
    "- cropd: constant\n",
    "- sited: constant\n",
    "- agro_yaml: constant (careful with dates, some dates don't have weather data!)\n",
    "\n",
    "Output:\n",
    "- clean_yield_data: output yield in kg/ha"
   ]
  },
  {
   "cell_type": "code",
   "execution_count": 173,
   "metadata": {},
   "outputs": [
    {
     "name": "stdout",
     "output_type": "stream",
     "text": [
      "\n",
      "- 2017-01-01:\n",
      "    CropCalendar:\n",
      "        crop_name: wheat\n",
      "        variety_name: Winter_wheat_101\n",
      "        crop_start_date: 2017-03-31\n",
      "        crop_start_type: emergence\n",
      "        crop_end_date: 2017-08-11\n",
      "        crop_end_type: harvest\n",
      "        max_duration: 200\n",
      "    TimedEvents: null\n",
      "    StateEvents: null\n",
      "\n"
     ]
    }
   ],
   "source": [
    "## Retrieve data from default param files\n",
    "data_dir = os.path.join(os.getcwd(), 'default_data') # Rogerio's data\n",
    "crop_file_name = \"crop.cab\"\n",
    "soil_file_name = \"soil.cab\" # Must be a CABO file\n",
    "site_file_name = \"site.cab\" # Must be a CABO file\n",
    "agro_file_name = \"agro.yaml\"# Must be a YAML file\n",
    "config_file_name = \"WLP_NPK.conf\" # Water-limited and nutrient-limited production simulation\n",
    "\n",
    "soild = CABOFileReader(os.path.join(data_dir, soil_file_name))\n",
    "sited = CABOFileReader(os.path.join(data_dir, site_file_name))\n",
    "cropd = CABOFileReader(os.path.join(data_dir, crop_file_name))\n",
    "config = os.path.join(data_dir, config_file_name)\n",
    "# Define crop and crop variety\n",
    "crop_name = 'wheat'\n",
    "variety_name = 'Winter_wheat_101'\n",
    "## Override crop data\n",
    "## TODO:  get missing 'CO2' variable when using this, created the issue on the below repo.\n",
    "# cropd = YAMLCropDataProvider() # pulls from https://github.com/ajwdewit/WOFOST_crop_parameters\n",
    "# cropd.set_active_crop(crop_name, variety_name)\n",
    "# cropd.keys()\n",
    "# Overriding agromanagement\n",
    "campaign_start_date = '2017-01-01'\n",
    "emergence_date = \"2017-03-31\"\n",
    "harvest_date = \"2017-08-11\"\n",
    "max_duration = 200\n",
    "\n",
    "agro_variety_name = 'winter-wheat'\n",
    "agro_yaml = \"\"\"\n",
    "- {start}:\n",
    "    CropCalendar:\n",
    "        crop_name: {cname}\n",
    "        variety_name: {vname}\n",
    "        crop_start_date: {startdate}\n",
    "        crop_start_type: emergence\n",
    "        crop_end_date: {enddate}\n",
    "        crop_end_type: harvest\n",
    "        max_duration: {maxdur}\n",
    "    TimedEvents: null\n",
    "    StateEvents: null\n",
    "\"\"\".format(cname=crop_name, vname=variety_name, \n",
    "           start=campaign_start_date, startdate=emergence_date, \n",
    "           enddate=harvest_date, maxdur=max_duration)\n",
    "agromanagement = yaml.safe_load(agro_yaml)\n",
    "print(agro_yaml)"
   ]
  },
  {
   "cell_type": "code",
   "execution_count": null,
   "metadata": {},
   "outputs": [
    {
     "name": "stdout",
     "output_type": "stream",
     "text": [
      "Exception at (43.82916626740311, -123.37083355985): No weather data for 2017-07-18.\n",
      "Exception at (43.82916626740311, -123.37083355985): No weather data for 2017-07-18.\n",
      "Exception at (43.82916626740311, -123.37083355985): No weather data for 2017-07-18.\n",
      "Exception at (34.24583297240311, -85.72916704375): No weather data for 2017-03-24.\n",
      "Exception at (35.79583296620311, -80.87083372985): No weather data for 2017-05-25.\n",
      "Exception at (35.79583296620311, -80.87083372985): No weather data for 2017-05-25.\n",
      "Exception at (35.79583296620311, -80.87083372985): No weather data for 2017-05-25.\n",
      "Exception at (35.67083296670311, -83.75416705165): No weather data for 2017-08-06.\n",
      "Exception at (35.67083296670311, -83.75416705165): No weather data for 2017-08-06.\n",
      "Exception at (35.67083296670311, -83.75416705165): No weather data for 2017-08-06.\n"
     ]
    }
   ],
   "source": [
    "df_results = pd.DataFrame()\n",
    "nEpochs = len(soil_subset)\n",
    "for i in range(len(soil_subset)):\n",
    "    # New location: new soil, new coordinates\n",
    "    soil_row = df_soil.loc[i]\n",
    "    for col in soil_cols[:-1]:\n",
    "        soild[col] = soil_row[col]\n",
    "    # Get \n",
    "    latitude, longitude = soil_row['latitude'], soil_row['longitude']\n",
    "    try:\n",
    "        wdp = NASAPowerWeatherDataProvider(latitude=latitude, longitude=longitude)\n",
    "        params = ParameterProvider(cropdata=cropd, sitedata=sited, soildata=soild)\n",
    "        wofost = Engine(params, wdp, agromanagement, config) #WLP_NPK\n",
    "        wofost.run_till_terminate()\n",
    "        r = wofost.get_summary_output()\n",
    "        df_results = df_results.append(r[0], ignore_index=True)\n",
    "    except Exception as e:\n",
    "        print('Exception at ({}, {}):'.format(latitude, longitude), e)\n",
    "        continue\n",
    "   "
   ]
  },
  {
   "cell_type": "code",
   "execution_count": null,
   "metadata": {},
   "outputs": [],
   "source": [
    "df_results"
   ]
  },
  {
   "cell_type": "code",
   "execution_count": null,
   "metadata": {},
   "outputs": [],
   "source": []
  }
 ],
 "metadata": {
  "kernelspec": {
   "display_name": "Python 3",
   "language": "python",
   "name": "python3"
  },
  "language_info": {
   "codemirror_mode": {
    "name": "ipython",
    "version": 3
   },
   "file_extension": ".py",
   "mimetype": "text/x-python",
   "name": "python",
   "nbconvert_exporter": "python",
   "pygments_lexer": "ipython3",
   "version": "3.8.5"
  }
 },
 "nbformat": 4,
 "nbformat_minor": 4
}
