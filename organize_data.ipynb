{
 "cells": [
  {
   "cell_type": "markdown",
   "metadata": {},
   "source": [
    "# Mapping real data to Wofost input/output "
   ]
  },
  {
   "cell_type": "code",
   "execution_count": 104,
   "metadata": {},
   "outputs": [],
   "source": [
    "import sys, os.path\n",
    "import yaml\n",
    "import numpy as np\n",
    "import pandas as pd\n",
    "import matplotlib.pyplot as plt\n",
    "from IPython.display import display\n",
    "pd.set_option(\"display.max_rows\", None)\n",
    "pd.set_option(\"display.max_colwidth\", 250)\n",
    "\n",
    "import pcse\n",
    "from pcse.models import Wofost71_PP\n",
    "from pcse.base import ParameterProvider\n",
    "from pcse.db import NASAPowerWeatherDataProvider\n",
    "from pcse.fileinput import YAMLCropDataProvider\n",
    "# from pcse.util import WOFOST71SiteDataProvider, DummySoilDataProvider\n",
    "from progressbar import printProgressBar\n",
    "from pcse.fileinput import CABOFileReader\n",
    "from pcse.engine import Engine"
   ]
  },
  {
   "cell_type": "code",
   "execution_count": 105,
   "metadata": {},
   "outputs": [],
   "source": [
    "# ## Define location, crop and season\n",
    "# latitude, longitude = 52.2, 5.0\n",
    "# crop_name = 'wheat'\n",
    "# variety_name = 'Winter_wheat_101'\n",
    "# campaign_start_date = '2006-01-01'\n",
    "# emergence_date = \"2006-03-31\"\n",
    "# harvest_date = \"2006-10-20\"\n",
    "# max_duration = 300"
   ]
  },
  {
   "cell_type": "code",
   "execution_count": 106,
   "metadata": {},
   "outputs": [],
   "source": [
    "## Retrieve data from default param files\n",
    "\n",
    "data_dir = os.path.join(os.getcwd(), 'default_data') # Rogerio's data\n",
    "crop_file_name = \"crop.cab\"\n",
    "soil_file_name = \"soil.cab\" # Must be a CABO file\n",
    "site_file_name = \"site.cab\" # Must be a CABO file\n",
    "agro_file_name = \"agro.yaml\"# Must be a YAML file\n",
    "config_file_name = \"WLP_NPK.conf\" # Water-limited and nutrient-limited production simulation"
   ]
  },
  {
   "cell_type": "code",
   "execution_count": 107,
   "metadata": {},
   "outputs": [],
   "source": [
    "## Retrieve crop data\n",
    "# cropd = YAMLCropDataProvider() # pulls from https://github.com/ajwdewit/WOFOST_crop_parameters\n",
    "# cropd.set_active_crop(crop_name, variety_name)\n",
    "# cropd"
   ]
  },
  {
   "cell_type": "code",
   "execution_count": 116,
   "metadata": {},
   "outputs": [],
   "source": [
    "soild = CABOFileReader(os.path.join(data_dir, soil_file_name))\n",
    "sited = CABOFileReader(os.path.join(data_dir, site_file_name))\n",
    "cropd = CABOFileReader(os.path.join(data_dir, crop_file_name))\n",
    "agromanagement = yaml.load(open(os.path.join(data_dir, agro_file_name)), \n",
    "                           Loader=yaml.SafeLoader)['AgroManagement']\n",
    "# agro_yaml = \"\"\"\n",
    "# - {start}:\n",
    "#     CropCalendar:\n",
    "#         crop_name: {cname}\n",
    "#         variety_name: {vname}\n",
    "#         crop_start_date: {startdate}\n",
    "#         crop_start_type: emergence\n",
    "#         crop_end_date: {enddate}\n",
    "#         crop_end_type: harvest\n",
    "#         max_duration: {maxdur}\n",
    "#     TimedEvents: null\n",
    "#     StateEvents: null\n",
    "# \"\"\".format(cname=crop_name, vname=variety_name, \n",
    "#            start=campaign_start_date, startdate=emergence_date, \n",
    "#            enddate=harvest_date, maxdur=max_duration)\n",
    "# agromanagement = yaml.safe_load(agro_yaml)\n",
    "# print(agro_yaml)\n",
    "config = os.path.join(data_dir, config_file_name)\n",
    "# soild"
   ]
  },
  {
   "cell_type": "markdown",
   "metadata": {},
   "source": [
    "Real soil data available only for the below variables:\n",
    "\n",
    "- SMW :  soil moisture content at wilting point [cm3/cm3]\n",
    "- SMFCF :  soil moisture content at field capacity [cm3/cm3]\n",
    "- K0 : hydraulic conductivity of saturated soil [cm day-1]\n",
    "- SOPE  : maximum percolation rate root zone[cm day-1]\n",
    "- KSUB : maximum percolation rate subsoil [cm day-1]\n"
   ]
  },
  {
   "cell_type": "code",
   "execution_count": 117,
   "metadata": {},
   "outputs": [],
   "source": [
    "soil_data_path = 'actual_data/soil/soils_locations.csv' #soils_1stDraft.csv'\n",
    "soil_cols = ['SMW', 'SMFCF', 'K0', 'SOPE', 'KSUB', 'center']"
   ]
  },
  {
   "cell_type": "code",
   "execution_count": 118,
   "metadata": {},
   "outputs": [
    {
     "data": {
      "text/html": [
       "<div>\n",
       "<style scoped>\n",
       "    .dataframe tbody tr th:only-of-type {\n",
       "        vertical-align: middle;\n",
       "    }\n",
       "\n",
       "    .dataframe tbody tr th {\n",
       "        vertical-align: top;\n",
       "    }\n",
       "\n",
       "    .dataframe thead th {\n",
       "        text-align: right;\n",
       "    }\n",
       "</style>\n",
       "<table border=\"1\" class=\"dataframe\">\n",
       "  <thead>\n",
       "    <tr style=\"text-align: right;\">\n",
       "      <th></th>\n",
       "      <th>SMW</th>\n",
       "      <th>SMFCF</th>\n",
       "      <th>K0</th>\n",
       "      <th>SOPE</th>\n",
       "      <th>KSUB</th>\n",
       "      <th>center</th>\n",
       "    </tr>\n",
       "  </thead>\n",
       "  <tbody>\n",
       "    <tr>\n",
       "      <th>0</th>\n",
       "      <td>0.089795</td>\n",
       "      <td>0.189621</td>\n",
       "      <td>1.357097</td>\n",
       "      <td>148.254720</td>\n",
       "      <td>99.734993</td>\n",
       "      <td>[-94.01250034395, 36.73749962910311]</td>\n",
       "    </tr>\n",
       "    <tr>\n",
       "      <th>1</th>\n",
       "      <td>0.156155</td>\n",
       "      <td>0.264972</td>\n",
       "      <td>0.426985</td>\n",
       "      <td>130.503168</td>\n",
       "      <td>87.793040</td>\n",
       "      <td>[-94.01250034395, 36.73749962910311]</td>\n",
       "    </tr>\n",
       "    <tr>\n",
       "      <th>2</th>\n",
       "      <td>0.114223</td>\n",
       "      <td>0.219987</td>\n",
       "      <td>0.886029</td>\n",
       "      <td>138.696192</td>\n",
       "      <td>93.304711</td>\n",
       "      <td>[-86.90416703905, 32.829166311403114]</td>\n",
       "    </tr>\n",
       "    <tr>\n",
       "      <th>3</th>\n",
       "      <td>0.156155</td>\n",
       "      <td>0.264972</td>\n",
       "      <td>0.426985</td>\n",
       "      <td>130.503168</td>\n",
       "      <td>87.793040</td>\n",
       "      <td>[-86.90416703905, 32.829166311403114]</td>\n",
       "    </tr>\n",
       "    <tr>\n",
       "      <th>4</th>\n",
       "      <td>0.267157</td>\n",
       "      <td>0.399190</td>\n",
       "      <td>0.060149</td>\n",
       "      <td>74.432160</td>\n",
       "      <td>50.072544</td>\n",
       "      <td>[-86.90416703905, 32.829166311403114]</td>\n",
       "    </tr>\n",
       "    <tr>\n",
       "      <th>5</th>\n",
       "      <td>0.114223</td>\n",
       "      <td>0.219987</td>\n",
       "      <td>0.886029</td>\n",
       "      <td>138.696192</td>\n",
       "      <td>93.304711</td>\n",
       "      <td>[-85.33750037865, 31.12916631820311]</td>\n",
       "    </tr>\n",
       "    <tr>\n",
       "      <th>6</th>\n",
       "      <td>0.156155</td>\n",
       "      <td>0.264972</td>\n",
       "      <td>0.426985</td>\n",
       "      <td>130.503168</td>\n",
       "      <td>87.793040</td>\n",
       "      <td>[-85.33750037865, 31.12916631820311]</td>\n",
       "    </tr>\n",
       "    <tr>\n",
       "      <th>7</th>\n",
       "      <td>0.267157</td>\n",
       "      <td>0.399190</td>\n",
       "      <td>0.060149</td>\n",
       "      <td>74.432160</td>\n",
       "      <td>50.072544</td>\n",
       "      <td>[-85.33750037865, 31.12916631820311]</td>\n",
       "    </tr>\n",
       "    <tr>\n",
       "      <th>8</th>\n",
       "      <td>0.126229</td>\n",
       "      <td>0.233028</td>\n",
       "      <td>0.704491</td>\n",
       "      <td>136.050528</td>\n",
       "      <td>91.524901</td>\n",
       "      <td>[-85.33750037865, 31.12916631820311]</td>\n",
       "    </tr>\n",
       "    <tr>\n",
       "      <th>9</th>\n",
       "      <td>0.156155</td>\n",
       "      <td>0.264972</td>\n",
       "      <td>0.426985</td>\n",
       "      <td>130.503168</td>\n",
       "      <td>87.793040</td>\n",
       "      <td>[-82.27083372425, 30.004166322703114]</td>\n",
       "    </tr>\n",
       "  </tbody>\n",
       "</table>\n",
       "</div>"
      ],
      "text/plain": [
       "        SMW     SMFCF        K0        SOPE       KSUB  \\\n",
       "0  0.089795  0.189621  1.357097  148.254720  99.734993   \n",
       "1  0.156155  0.264972  0.426985  130.503168  87.793040   \n",
       "2  0.114223  0.219987  0.886029  138.696192  93.304711   \n",
       "3  0.156155  0.264972  0.426985  130.503168  87.793040   \n",
       "4  0.267157  0.399190  0.060149   74.432160  50.072544   \n",
       "5  0.114223  0.219987  0.886029  138.696192  93.304711   \n",
       "6  0.156155  0.264972  0.426985  130.503168  87.793040   \n",
       "7  0.267157  0.399190  0.060149   74.432160  50.072544   \n",
       "8  0.126229  0.233028  0.704491  136.050528  91.524901   \n",
       "9  0.156155  0.264972  0.426985  130.503168  87.793040   \n",
       "\n",
       "                                  center  \n",
       "0   [-94.01250034395, 36.73749962910311]  \n",
       "1   [-94.01250034395, 36.73749962910311]  \n",
       "2  [-86.90416703905, 32.829166311403114]  \n",
       "3  [-86.90416703905, 32.829166311403114]  \n",
       "4  [-86.90416703905, 32.829166311403114]  \n",
       "5   [-85.33750037865, 31.12916631820311]  \n",
       "6   [-85.33750037865, 31.12916631820311]  \n",
       "7   [-85.33750037865, 31.12916631820311]  \n",
       "8   [-85.33750037865, 31.12916631820311]  \n",
       "9  [-82.27083372425, 30.004166322703114]  "
      ]
     },
     "execution_count": 118,
     "metadata": {},
     "output_type": "execute_result"
    }
   ],
   "source": [
    "df_soil = pd.read_csv(soil_data_path, usecols=soil_cols)\n",
    "df_soil.head(10)"
   ]
  },
  {
   "cell_type": "code",
   "execution_count": 119,
   "metadata": {},
   "outputs": [],
   "source": [
    "# Override soild\n",
    "soil_row = df_soil.loc[0]\n",
    "for col in soil_cols[:-1]:\n",
    "    soild[col] = soil_row[col]"
   ]
  },
  {
   "cell_type": "code",
   "execution_count": 120,
   "metadata": {},
   "outputs": [
    {
     "data": {
      "text/plain": [
       "(36.73749962910311, -94.01250034395)"
      ]
     },
     "execution_count": 120,
     "metadata": {},
     "output_type": "execute_result"
    }
   ],
   "source": [
    "# Set latitude, longitude to the soil row's center\n",
    "from ast import literal_eval\n",
    "longitude, latitude = literal_eval(soil_row['center'])\n",
    "latitude, longitude"
   ]
  },
  {
   "cell_type": "code",
   "execution_count": 121,
   "metadata": {},
   "outputs": [],
   "source": [
    "# Run Wofost\n",
    "# Retrieve Weather Data from NASA\n",
    "wdp = NASAPowerWeatherDataProvider(latitude=latitude, longitude=longitude)\n",
    "params = ParameterProvider(cropdata=cropd, sitedata=sited, soildata=soild)\n",
    "wofost = Engine(params, wdp, agromanagement, config) #WLP_NPK"
   ]
  },
  {
   "cell_type": "code",
   "execution_count": 122,
   "metadata": {},
   "outputs": [
    {
     "ename": "WeatherDataProviderError",
     "evalue": "No weather data for 2018-02-08.",
     "output_type": "error",
     "traceback": [
      "\u001b[0;31m---------------------------------------------------------------------------\u001b[0m",
      "\u001b[0;31mKeyError\u001b[0m                                  Traceback (most recent call last)",
      "\u001b[0;32m/usr/local/lib/python3.8/site-packages/pcse/base/weather.py\u001b[0m in \u001b[0;36m__call__\u001b[0;34m(self, day, member_id)\u001b[0m\n\u001b[1;32m    362\u001b[0m             \u001b[0;32mtry\u001b[0m\u001b[0;34m:\u001b[0m\u001b[0;34m\u001b[0m\u001b[0;34m\u001b[0m\u001b[0m\n\u001b[0;32m--> 363\u001b[0;31m                 \u001b[0;32mreturn\u001b[0m \u001b[0mself\u001b[0m\u001b[0;34m.\u001b[0m\u001b[0mstore\u001b[0m\u001b[0;34m[\u001b[0m\u001b[0;34m(\u001b[0m\u001b[0mkeydate\u001b[0m\u001b[0;34m,\u001b[0m \u001b[0;36m0\u001b[0m\u001b[0;34m)\u001b[0m\u001b[0;34m]\u001b[0m\u001b[0;34m\u001b[0m\u001b[0;34m\u001b[0m\u001b[0m\n\u001b[0m\u001b[1;32m    364\u001b[0m             \u001b[0;32mexcept\u001b[0m \u001b[0mKeyError\u001b[0m \u001b[0;32mas\u001b[0m \u001b[0me\u001b[0m\u001b[0;34m:\u001b[0m\u001b[0;34m\u001b[0m\u001b[0;34m\u001b[0m\u001b[0m\n",
      "\u001b[0;31mKeyError\u001b[0m: (datetime.date(2018, 2, 8), 0)",
      "\nDuring handling of the above exception, another exception occurred:\n",
      "\u001b[0;31mWeatherDataProviderError\u001b[0m                  Traceback (most recent call last)",
      "\u001b[0;32m<ipython-input-122-7ba2dab2b6f4>\u001b[0m in \u001b[0;36m<module>\u001b[0;34m\u001b[0m\n\u001b[0;32m----> 1\u001b[0;31m \u001b[0mwofost\u001b[0m\u001b[0;34m.\u001b[0m\u001b[0mrun_till_terminate\u001b[0m\u001b[0;34m(\u001b[0m\u001b[0;34m)\u001b[0m\u001b[0;34m\u001b[0m\u001b[0;34m\u001b[0m\u001b[0m\n\u001b[0m\u001b[1;32m      2\u001b[0m \u001b[0mr\u001b[0m \u001b[0;34m=\u001b[0m \u001b[0mwofost\u001b[0m\u001b[0;34m.\u001b[0m\u001b[0mget_summary_output\u001b[0m\u001b[0;34m(\u001b[0m\u001b[0;34m)\u001b[0m\u001b[0;34m\u001b[0m\u001b[0;34m\u001b[0m\u001b[0m\n",
      "\u001b[0;32m/usr/local/lib/python3.8/site-packages/pcse/engine.py\u001b[0m in \u001b[0;36mrun_till_terminate\u001b[0;34m(self)\u001b[0m\n\u001b[1;32m    226\u001b[0m \u001b[0;34m\u001b[0m\u001b[0m\n\u001b[1;32m    227\u001b[0m         \u001b[0;32mwhile\u001b[0m \u001b[0mself\u001b[0m\u001b[0;34m.\u001b[0m\u001b[0mflag_terminate\u001b[0m \u001b[0;32mis\u001b[0m \u001b[0;32mFalse\u001b[0m\u001b[0;34m:\u001b[0m\u001b[0;34m\u001b[0m\u001b[0;34m\u001b[0m\u001b[0m\n\u001b[0;32m--> 228\u001b[0;31m             \u001b[0mself\u001b[0m\u001b[0;34m.\u001b[0m\u001b[0m_run\u001b[0m\u001b[0;34m(\u001b[0m\u001b[0;34m)\u001b[0m\u001b[0;34m\u001b[0m\u001b[0;34m\u001b[0m\u001b[0m\n\u001b[0m\u001b[1;32m    229\u001b[0m \u001b[0;34m\u001b[0m\u001b[0m\n\u001b[1;32m    230\u001b[0m     \u001b[0;32mdef\u001b[0m \u001b[0mrun_till\u001b[0m\u001b[0;34m(\u001b[0m\u001b[0mself\u001b[0m\u001b[0;34m,\u001b[0m \u001b[0mrday\u001b[0m\u001b[0;34m)\u001b[0m\u001b[0;34m:\u001b[0m\u001b[0;34m\u001b[0m\u001b[0;34m\u001b[0m\u001b[0m\n",
      "\u001b[0;32m/usr/local/lib/python3.8/site-packages/pcse/engine.py\u001b[0m in \u001b[0;36m_run\u001b[0;34m(self)\u001b[0m\n\u001b[1;32m    203\u001b[0m \u001b[0;34m\u001b[0m\u001b[0m\n\u001b[1;32m    204\u001b[0m         \u001b[0;31m# Driving variables\u001b[0m\u001b[0;34m\u001b[0m\u001b[0;34m\u001b[0m\u001b[0;34m\u001b[0m\u001b[0m\n\u001b[0;32m--> 205\u001b[0;31m         \u001b[0mself\u001b[0m\u001b[0;34m.\u001b[0m\u001b[0mdrv\u001b[0m \u001b[0;34m=\u001b[0m \u001b[0mself\u001b[0m\u001b[0;34m.\u001b[0m\u001b[0m_get_driving_variables\u001b[0m\u001b[0;34m(\u001b[0m\u001b[0mself\u001b[0m\u001b[0;34m.\u001b[0m\u001b[0mday\u001b[0m\u001b[0;34m)\u001b[0m\u001b[0;34m\u001b[0m\u001b[0;34m\u001b[0m\u001b[0m\n\u001b[0m\u001b[1;32m    206\u001b[0m \u001b[0;34m\u001b[0m\u001b[0m\n\u001b[1;32m    207\u001b[0m         \u001b[0;31m# Agromanagement decisions\u001b[0m\u001b[0;34m\u001b[0m\u001b[0;34m\u001b[0m\u001b[0;34m\u001b[0m\u001b[0m\n",
      "\u001b[0;32m/usr/local/lib/python3.8/site-packages/pcse/engine.py\u001b[0m in \u001b[0;36m_get_driving_variables\u001b[0;34m(self, day)\u001b[0m\n\u001b[1;32m    335\u001b[0m         \"\"\"Get driving variables, compute derived properties and return it.\n\u001b[1;32m    336\u001b[0m         \"\"\"\n\u001b[0;32m--> 337\u001b[0;31m         \u001b[0mdrv\u001b[0m \u001b[0;34m=\u001b[0m \u001b[0mself\u001b[0m\u001b[0;34m.\u001b[0m\u001b[0mweatherdataprovider\u001b[0m\u001b[0;34m(\u001b[0m\u001b[0mday\u001b[0m\u001b[0;34m)\u001b[0m\u001b[0;34m\u001b[0m\u001b[0;34m\u001b[0m\u001b[0m\n\u001b[0m\u001b[1;32m    338\u001b[0m \u001b[0;34m\u001b[0m\u001b[0m\n\u001b[1;32m    339\u001b[0m         \u001b[0;31m# average temperature and average daytemperature (if needed)\u001b[0m\u001b[0;34m\u001b[0m\u001b[0;34m\u001b[0m\u001b[0;34m\u001b[0m\u001b[0m\n",
      "\u001b[0;32m/usr/local/lib/python3.8/site-packages/pcse/base/weather.py\u001b[0m in \u001b[0;36m__call__\u001b[0;34m(self, day, member_id)\u001b[0m\n\u001b[1;32m    364\u001b[0m             \u001b[0;32mexcept\u001b[0m \u001b[0mKeyError\u001b[0m \u001b[0;32mas\u001b[0m \u001b[0me\u001b[0m\u001b[0;34m:\u001b[0m\u001b[0;34m\u001b[0m\u001b[0;34m\u001b[0m\u001b[0m\n\u001b[1;32m    365\u001b[0m                 \u001b[0mmsg\u001b[0m \u001b[0;34m=\u001b[0m \u001b[0;34m\"No weather data for %s.\"\u001b[0m \u001b[0;34m%\u001b[0m \u001b[0mkeydate\u001b[0m\u001b[0;34m\u001b[0m\u001b[0;34m\u001b[0m\u001b[0m\n\u001b[0;32m--> 366\u001b[0;31m                 \u001b[0;32mraise\u001b[0m \u001b[0mexc\u001b[0m\u001b[0;34m.\u001b[0m\u001b[0mWeatherDataProviderError\u001b[0m\u001b[0;34m(\u001b[0m\u001b[0mmsg\u001b[0m\u001b[0;34m)\u001b[0m\u001b[0;34m\u001b[0m\u001b[0;34m\u001b[0m\u001b[0m\n\u001b[0m\u001b[1;32m    367\u001b[0m         \u001b[0;32melse\u001b[0m\u001b[0;34m:\u001b[0m\u001b[0;34m\u001b[0m\u001b[0;34m\u001b[0m\u001b[0m\n\u001b[1;32m    368\u001b[0m             \u001b[0mmsg\u001b[0m \u001b[0;34m=\u001b[0m \u001b[0;34m\"Retrieving ensemble weather data for day %s member %i\"\u001b[0m \u001b[0;34m%\u001b[0m\u001b[0;31m \u001b[0m\u001b[0;31m\\\u001b[0m\u001b[0;34m\u001b[0m\u001b[0;34m\u001b[0m\u001b[0m\n",
      "\u001b[0;31mWeatherDataProviderError\u001b[0m: No weather data for 2018-02-08."
     ]
    }
   ],
   "source": [
    "wofost.run_till_terminate()\n",
    "r = wofost.get_summary_output()"
   ]
  },
  {
   "cell_type": "code",
   "execution_count": null,
   "metadata": {},
   "outputs": [],
   "source": [
    "r"
   ]
  },
  {
   "cell_type": "markdown",
   "metadata": {},
   "source": [
    "# Map Wofost output to actual yield_data"
   ]
  },
  {
   "cell_type": "code",
   "execution_count": 152,
   "metadata": {},
   "outputs": [
    {
     "data": {
      "text/html": [
       "<div>\n",
       "<style scoped>\n",
       "    .dataframe tbody tr th:only-of-type {\n",
       "        vertical-align: middle;\n",
       "    }\n",
       "\n",
       "    .dataframe tbody tr th {\n",
       "        vertical-align: top;\n",
       "    }\n",
       "\n",
       "    .dataframe thead th {\n",
       "        text-align: right;\n",
       "    }\n",
       "</style>\n",
       "<table border=\"1\" class=\"dataframe\">\n",
       "  <thead>\n",
       "    <tr style=\"text-align: right;\">\n",
       "      <th></th>\n",
       "      <th>Year</th>\n",
       "      <th>State</th>\n",
       "      <th>County</th>\n",
       "      <th>Value</th>\n",
       "    </tr>\n",
       "  </thead>\n",
       "  <tbody>\n",
       "    <tr>\n",
       "      <th>0</th>\n",
       "      <td>2007</td>\n",
       "      <td>CALIFORNIA</td>\n",
       "      <td>CONTRA COSTA</td>\n",
       "      <td>65.7</td>\n",
       "    </tr>\n",
       "    <tr>\n",
       "      <th>1</th>\n",
       "      <td>2007</td>\n",
       "      <td>CALIFORNIA</td>\n",
       "      <td>MONTEREY</td>\n",
       "      <td>105.0</td>\n",
       "    </tr>\n",
       "    <tr>\n",
       "      <th>2</th>\n",
       "      <td>2007</td>\n",
       "      <td>CALIFORNIA</td>\n",
       "      <td>OTHER (COMBINED) COUNTIES</td>\n",
       "      <td>95.0</td>\n",
       "    </tr>\n",
       "    <tr>\n",
       "      <th>3</th>\n",
       "      <td>2007</td>\n",
       "      <td>CALIFORNIA</td>\n",
       "      <td>SAN LUIS OBISPO</td>\n",
       "      <td>104.0</td>\n",
       "    </tr>\n",
       "    <tr>\n",
       "      <th>4</th>\n",
       "      <td>2007</td>\n",
       "      <td>CALIFORNIA</td>\n",
       "      <td>LASSEN</td>\n",
       "      <td>50.0</td>\n",
       "    </tr>\n",
       "  </tbody>\n",
       "</table>\n",
       "</div>"
      ],
      "text/plain": [
       "   Year       State                     County  Value\n",
       "0  2007  CALIFORNIA               CONTRA COSTA   65.7\n",
       "1  2007  CALIFORNIA                   MONTEREY  105.0\n",
       "2  2007  CALIFORNIA  OTHER (COMBINED) COUNTIES   95.0\n",
       "3  2007  CALIFORNIA            SAN LUIS OBISPO  104.0\n",
       "4  2007  CALIFORNIA                     LASSEN   50.0"
      ]
     },
     "execution_count": 152,
     "metadata": {},
     "output_type": "execute_result"
    }
   ],
   "source": [
    "cols = ['County', 'Value', 'Year', 'State']\n",
    "yield_data = pd.read_csv('actual_data/yield_usda/wheat_irrigated_country_annual.csv', usecols=cols)\n",
    "yield_data.head()"
   ]
  },
  {
   "cell_type": "code",
   "execution_count": 153,
   "metadata": {},
   "outputs": [
    {
     "data": {
      "text/html": [
       "<div>\n",
       "<style scoped>\n",
       "    .dataframe tbody tr th:only-of-type {\n",
       "        vertical-align: middle;\n",
       "    }\n",
       "\n",
       "    .dataframe tbody tr th {\n",
       "        vertical-align: top;\n",
       "    }\n",
       "\n",
       "    .dataframe thead th {\n",
       "        text-align: right;\n",
       "    }\n",
       "</style>\n",
       "<table border=\"1\" class=\"dataframe\">\n",
       "  <thead>\n",
       "    <tr style=\"text-align: right;\">\n",
       "      <th></th>\n",
       "      <th>Value</th>\n",
       "    </tr>\n",
       "  </thead>\n",
       "  <tbody>\n",
       "    <tr>\n",
       "      <th>0</th>\n",
       "      <td>4418.39727</td>\n",
       "    </tr>\n",
       "    <tr>\n",
       "      <th>1</th>\n",
       "      <td>7061.36550</td>\n",
       "    </tr>\n",
       "    <tr>\n",
       "      <th>2</th>\n",
       "      <td>6388.85450</td>\n",
       "    </tr>\n",
       "    <tr>\n",
       "      <th>3</th>\n",
       "      <td>6994.11440</td>\n",
       "    </tr>\n",
       "    <tr>\n",
       "      <th>4</th>\n",
       "      <td>3362.55500</td>\n",
       "    </tr>\n",
       "  </tbody>\n",
       "</table>\n",
       "</div>"
      ],
      "text/plain": [
       "        Value\n",
       "0  4418.39727\n",
       "1  7061.36550\n",
       "2  6388.85450\n",
       "3  6994.11440\n",
       "4  3362.55500"
      ]
     },
     "execution_count": 153,
     "metadata": {},
     "output_type": "execute_result"
    }
   ],
   "source": [
    "# Convert Actual Yield Data in bushels/acre to kg/ha\n",
    "# 1 Bushels Per Acre to Kilograms Per Hectare = 67.2511 ## http://www.kylesconverter.com/area-density/bushels-per-acre-to-kilograms-per-hectare\n",
    "conversion_rate = 67.2511 # for wheat: bu/acre to kg/ha\n",
    "yield_data['Value'] = yield_data['Value'] * conversion_rate\n",
    "yield_data[['Value']].head()"
   ]
  },
  {
   "cell_type": "code",
   "execution_count": 154,
   "metadata": {},
   "outputs": [
    {
     "data": {
      "text/html": [
       "<div>\n",
       "<style scoped>\n",
       "    .dataframe tbody tr th:only-of-type {\n",
       "        vertical-align: middle;\n",
       "    }\n",
       "\n",
       "    .dataframe tbody tr th {\n",
       "        vertical-align: top;\n",
       "    }\n",
       "\n",
       "    .dataframe thead th {\n",
       "        text-align: right;\n",
       "    }\n",
       "</style>\n",
       "<table border=\"1\" class=\"dataframe\">\n",
       "  <thead>\n",
       "    <tr style=\"text-align: right;\">\n",
       "      <th></th>\n",
       "      <th>latitude</th>\n",
       "      <th>longitude</th>\n",
       "      <th>county</th>\n",
       "    </tr>\n",
       "  </thead>\n",
       "  <tbody>\n",
       "    <tr>\n",
       "      <th>0</th>\n",
       "      <td>40.81</td>\n",
       "      <td>-73.04</td>\n",
       "      <td>Suffolk</td>\n",
       "    </tr>\n",
       "    <tr>\n",
       "      <th>2</th>\n",
       "      <td>18.16</td>\n",
       "      <td>-66.72</td>\n",
       "      <td>Adjuntas</td>\n",
       "    </tr>\n",
       "    <tr>\n",
       "      <th>4</th>\n",
       "      <td>18.43</td>\n",
       "      <td>-67.15</td>\n",
       "      <td>Aguadilla</td>\n",
       "    </tr>\n",
       "    <tr>\n",
       "      <th>7</th>\n",
       "      <td>18.18</td>\n",
       "      <td>-66.98</td>\n",
       "      <td>Maricao</td>\n",
       "    </tr>\n",
       "    <tr>\n",
       "      <th>10</th>\n",
       "      <td>18.45</td>\n",
       "      <td>-66.73</td>\n",
       "      <td>Arecibo</td>\n",
       "    </tr>\n",
       "  </tbody>\n",
       "</table>\n",
       "</div>"
      ],
      "text/plain": [
       "    latitude  longitude     county\n",
       "0      40.81     -73.04    Suffolk\n",
       "2      18.16     -66.72   Adjuntas\n",
       "4      18.43     -67.15  Aguadilla\n",
       "7      18.18     -66.98    Maricao\n",
       "10     18.45     -66.73    Arecibo"
      ]
     },
     "execution_count": 154,
     "metadata": {},
     "output_type": "execute_result"
    }
   ],
   "source": [
    "## Get county coordinates\n",
    "cols = ['county', 'latitude', 'longitude']\n",
    "county_coords = pd.read_csv('actual_data/others/Geocodes_USA_with_Counties.csv', usecols=cols)\n",
    "county_coords = county_coords.dropna()\n",
    "county_coords = county_coords.drop_duplicates()\n",
    "county_coords.head()"
   ]
  },
  {
   "cell_type": "code",
   "execution_count": 158,
   "metadata": {},
   "outputs": [
    {
     "data": {
      "text/html": [
       "<div>\n",
       "<style scoped>\n",
       "    .dataframe tbody tr th:only-of-type {\n",
       "        vertical-align: middle;\n",
       "    }\n",
       "\n",
       "    .dataframe tbody tr th {\n",
       "        vertical-align: top;\n",
       "    }\n",
       "\n",
       "    .dataframe thead th {\n",
       "        text-align: right;\n",
       "    }\n",
       "</style>\n",
       "<table border=\"1\" class=\"dataframe\">\n",
       "  <thead>\n",
       "    <tr style=\"text-align: right;\">\n",
       "      <th></th>\n",
       "      <th>Year</th>\n",
       "      <th>State</th>\n",
       "      <th>County</th>\n",
       "      <th>Value</th>\n",
       "      <th>latitude</th>\n",
       "      <th>longitude</th>\n",
       "    </tr>\n",
       "  </thead>\n",
       "  <tbody>\n",
       "    <tr>\n",
       "      <th>0</th>\n",
       "      <td>2007</td>\n",
       "      <td>CALIFORNIA</td>\n",
       "      <td>contra costa</td>\n",
       "      <td>4418.39727</td>\n",
       "      <td>37.86</td>\n",
       "      <td>-121.64</td>\n",
       "    </tr>\n",
       "    <tr>\n",
       "      <th>0</th>\n",
       "      <td>2007</td>\n",
       "      <td>CALIFORNIA</td>\n",
       "      <td>contra costa</td>\n",
       "      <td>4418.39727</td>\n",
       "      <td>37.78</td>\n",
       "      <td>-121.88</td>\n",
       "    </tr>\n",
       "    <tr>\n",
       "      <th>0</th>\n",
       "      <td>2007</td>\n",
       "      <td>CALIFORNIA</td>\n",
       "      <td>contra costa</td>\n",
       "      <td>4418.39727</td>\n",
       "      <td>37.84</td>\n",
       "      <td>-121.97</td>\n",
       "    </tr>\n",
       "    <tr>\n",
       "      <th>0</th>\n",
       "      <td>2007</td>\n",
       "      <td>CALIFORNIA</td>\n",
       "      <td>contra costa</td>\n",
       "      <td>4418.39727</td>\n",
       "      <td>37.99</td>\n",
       "      <td>-121.81</td>\n",
       "    </tr>\n",
       "    <tr>\n",
       "      <th>0</th>\n",
       "      <td>2007</td>\n",
       "      <td>CALIFORNIA</td>\n",
       "      <td>contra costa</td>\n",
       "      <td>4418.39727</td>\n",
       "      <td>38.07</td>\n",
       "      <td>-121.62</td>\n",
       "    </tr>\n",
       "  </tbody>\n",
       "</table>\n",
       "</div>"
      ],
      "text/plain": [
       "   Year       State        County       Value  latitude  longitude\n",
       "0  2007  CALIFORNIA  contra costa  4418.39727     37.86    -121.64\n",
       "0  2007  CALIFORNIA  contra costa  4418.39727     37.78    -121.88\n",
       "0  2007  CALIFORNIA  contra costa  4418.39727     37.84    -121.97\n",
       "0  2007  CALIFORNIA  contra costa  4418.39727     37.99    -121.81\n",
       "0  2007  CALIFORNIA  contra costa  4418.39727     38.07    -121.62"
      ]
     },
     "execution_count": 158,
     "metadata": {},
     "output_type": "execute_result"
    }
   ],
   "source": [
    "yield_data['County'] = yield_data['County'].str.lower()\n",
    "county_coords['county'] = county_coords['county'].str.lower()\n",
    "clean_yield_data = yield_data.join(county_coords.set_index('county'), on='County', how='inner')\n",
    "clean_yield_data = new_yield_data.drop_duplicates()\n",
    "clean_yield_data.head()"
   ]
  },
  {
   "cell_type": "code",
   "execution_count": 159,
   "metadata": {},
   "outputs": [
    {
     "data": {
      "text/html": [
       "<div>\n",
       "<style scoped>\n",
       "    .dataframe tbody tr th:only-of-type {\n",
       "        vertical-align: middle;\n",
       "    }\n",
       "\n",
       "    .dataframe tbody tr th {\n",
       "        vertical-align: top;\n",
       "    }\n",
       "\n",
       "    .dataframe thead th {\n",
       "        text-align: right;\n",
       "    }\n",
       "</style>\n",
       "<table border=\"1\" class=\"dataframe\">\n",
       "  <thead>\n",
       "    <tr style=\"text-align: right;\">\n",
       "      <th></th>\n",
       "      <th>latitude</th>\n",
       "      <th>longitude</th>\n",
       "    </tr>\n",
       "  </thead>\n",
       "  <tbody>\n",
       "    <tr>\n",
       "      <th>0</th>\n",
       "      <td>37.86</td>\n",
       "      <td>-121.64</td>\n",
       "    </tr>\n",
       "    <tr>\n",
       "      <th>0</th>\n",
       "      <td>37.78</td>\n",
       "      <td>-121.88</td>\n",
       "    </tr>\n",
       "    <tr>\n",
       "      <th>0</th>\n",
       "      <td>37.84</td>\n",
       "      <td>-121.97</td>\n",
       "    </tr>\n",
       "    <tr>\n",
       "      <th>0</th>\n",
       "      <td>37.99</td>\n",
       "      <td>-121.81</td>\n",
       "    </tr>\n",
       "    <tr>\n",
       "      <th>0</th>\n",
       "      <td>38.07</td>\n",
       "      <td>-121.62</td>\n",
       "    </tr>\n",
       "  </tbody>\n",
       "</table>\n",
       "</div>"
      ],
      "text/plain": [
       "   latitude  longitude\n",
       "0     37.86    -121.64\n",
       "0     37.78    -121.88\n",
       "0     37.84    -121.97\n",
       "0     37.99    -121.81\n",
       "0     38.07    -121.62"
      ]
     },
     "execution_count": 159,
     "metadata": {},
     "output_type": "execute_result"
    }
   ],
   "source": [
    "coords = new_yield_data[['latitude', 'longitude']]\n",
    "coords.head()"
   ]
  },
  {
   "cell_type": "markdown",
   "metadata": {},
   "source": [
    "# WOFOST Input/Output Matrix using real data\n",
    "coords: latitude, longitue input\n",
    "\n",
    "clean_yield_data: output in kg/ha\n",
    "crop: constant\n",
    "agro_yaml: constant"
   ]
  },
  {
   "cell_type": "code",
   "execution_count": null,
   "metadata": {},
   "outputs": [],
   "source": [
    "coords"
   ]
  },
  {
   "cell_type": "code",
   "execution_count": null,
   "metadata": {},
   "outputs": [],
   "source": []
  }
 ],
 "metadata": {
  "kernelspec": {
   "display_name": "Python 3",
   "language": "python",
   "name": "python3"
  },
  "language_info": {
   "codemirror_mode": {
    "name": "ipython",
    "version": 3
   },
   "file_extension": ".py",
   "mimetype": "text/x-python",
   "name": "python",
   "nbconvert_exporter": "python",
   "pygments_lexer": "ipython3",
   "version": "3.8.5"
  }
 },
 "nbformat": 4,
 "nbformat_minor": 4
}
